{
  "cells": [
    {
      "cell_type": "markdown",
      "metadata": {
        "colab_type": "text",
        "id": "view-in-github"
      },
      "source": [
        "<a href=\"https://colab.research.google.com/github/BinaryNavigator07/Network-Intrusion-Detection-System/blob/main/CICIDS%202017/2017_LSTM_without_feature_extraction.ipynb\" target=\"_parent\"><img src=\"https://colab.research.google.com/assets/colab-badge.svg\" alt=\"Open In Colab\"/></a>"
      ]
    },
    {
      "cell_type": "code",
      "execution_count": null,
      "id": "95c4fc8a",
      "metadata": {
        "colab": {
          "base_uri": "https://localhost:8080/"
        },
        "id": "95c4fc8a",
        "outputId": "038ff5ad-cc0e-430c-be8a-1c67b91e0097"
      },
      "outputs": [
        {
          "name": "stdout",
          "output_type": "stream",
          "text": [
            "\u001b[2K   \u001b[90m━━━━━━━━━━━━━━━━━━━━━━━━━━━━━━━━━━━━━━━━\u001b[0m \u001b[32m99.2/99.2 MB\u001b[0m \u001b[31m7.8 MB/s\u001b[0m eta \u001b[36m0:00:00\u001b[0m\n",
            "\u001b[?25h"
          ]
        }
      ],
      "source": [
        "!pip install seaborn catboost --quiet\n",
        "import os\n",
        "import pandas as pd\n",
        "import numpy as np\n",
        "import seaborn as sb\n",
        "import matplotlib.pyplot as plt\n",
        "from sklearn.model_selection import train_test_split\n",
        "from sklearn.preprocessing import MinMaxScaler\n",
        "from sklearn.preprocessing import OneHotEncoder\n",
        "from sklearn.feature_selection import SelectFromModel\n",
        "from sklearn.metrics import accuracy_score\n",
        "from sklearn.ensemble import RandomForestClassifier\n",
        "from sklearn.feature_selection import RFE\n",
        "import xgboost as xgb\n",
        "from sklearn.naive_bayes import GaussianNB\n",
        "from sklearn.svm import SVC\n",
        "from catboost import CatBoostClassifier\n",
        "from sklearn.tree import DecisionTreeClassifier\n",
        "from tensorflow.keras.utils import to_categorical\n",
        "np.random.seed(178)"
      ]
    },
    {
      "cell_type": "code",
      "execution_count": null,
      "id": "9ea61750",
      "metadata": {
        "id": "9ea61750"
      },
      "outputs": [],
      "source": [
        "import os\n",
        "import pandas as pd\n",
        "import kagglehub\n",
        "\n",
        "# Download the dataset\n",
        "path = kagglehub.dataset_download(\"chethuhn/network-intrusion-dataset\")\n",
        "print(\"Dataset folder:\", path)\n",
        "\n",
        "# Find all CSV files in the dataset directory\n",
        "csv_file_names = [f for f in os.listdir(path) if f.endswith(\".csv\")]\n",
        "print(f\"Found {len(csv_file_names)} CSV files.\")\n",
        "\n",
        "dfs = []\n",
        "for file_name in csv_file_names:\n",
        "    file_path = os.path.join(path, file_name)\n",
        "    print(\"Loading:\", file_path)\n",
        "    df = pd.read_csv(file_path)\n",
        "    dfs.append(df)\n",
        "\n",
        "# Combine all files into one DataFrame\n",
        "df = pd.concat(dfs, ignore_index=True)\n",
        "print(\"Shape of combined data:\", df.shape)\n",
        "\n",
        "# Preview\n",
        "df.head()"
      ]
    },
    {
      "cell_type": "code",
      "execution_count": null,
      "id": "d03afc62",
      "metadata": {
        "id": "d03afc62"
      },
      "outputs": [],
      "source": [
        "df"
      ]
    },
    {
      "cell_type": "code",
      "execution_count": null,
      "id": "af02e928",
      "metadata": {
        "id": "af02e928"
      },
      "outputs": [],
      "source": [
        "df[' Label'].isnull().sum()"
      ]
    },
    {
      "cell_type": "code",
      "execution_count": null,
      "id": "fed0bdcc",
      "metadata": {
        "id": "fed0bdcc"
      },
      "outputs": [],
      "source": [
        "df.info()"
      ]
    },
    {
      "cell_type": "code",
      "execution_count": null,
      "id": "db612a47",
      "metadata": {
        "id": "db612a47"
      },
      "outputs": [],
      "source": [
        "df.isnull().sum()"
      ]
    },
    {
      "cell_type": "code",
      "execution_count": null,
      "id": "9f72362a",
      "metadata": {
        "id": "9f72362a"
      },
      "outputs": [],
      "source": [
        "from itertools import combinations\n",
        "\n",
        "def data_cleaning(df):\n",
        "    df.columns=df.columns.str.strip()\n",
        "    print(\"Dataset Shape: \",df.shape)\n",
        "\n",
        "    num=df._get_numeric_data()\n",
        "    num[num<0]=0\n",
        "\n",
        "    zero_variance_cols=[]\n",
        "    for col in df.columns:\n",
        "        if len(df[col].unique()) == 1:\n",
        "            zero_variance_cols.append(col)\n",
        "    df.drop(columns=zero_variance_cols,axis=1,inplace=True)\n",
        "    print(\"Zero Variance Columns: \",zero_variance_cols, \" are dropped!!\")\n",
        "    print(\"Shape after removing the zero variance columns: \",df.shape)\n",
        "\n",
        "    df.replace([np.inf,-np.inf],np.nan,inplace=True)\n",
        "    print(df.isna().any(axis=1).sum(), \"rows dropped\")\n",
        "    df.dropna(inplace=True)\n",
        "    print(\"Shape after Removing NaN: \",df.shape)\n",
        "\n",
        "    df.drop_duplicates(inplace=True)\n",
        "    print(\"Shape after dropping duplicates: \",df.shape)\n",
        "\n",
        "    column_pairs = [(i,j) for i,j in combinations(df,2) if df[i].equals(df[j])]\n",
        "    ide_cols=[]\n",
        "    for col_pair in column_pairs:\n",
        "        ide_cols.append(col_pair[1])\n",
        "    df.drop(columns=ide_cols,axis=1,inplace=True)\n",
        "    print(\"Columns which have identical values: \",column_pairs,\" dropped!\")\n",
        "    print(\"Shape after removing identical value columns: \",df.shape)\n",
        "    return df\n",
        "df=data_cleaning(df)"
      ]
    },
    {
      "cell_type": "code",
      "execution_count": null,
      "id": "5d57d6af",
      "metadata": {
        "id": "5d57d6af"
      },
      "outputs": [],
      "source": [
        "df.columns"
      ]
    },
    {
      "cell_type": "code",
      "execution_count": null,
      "id": "930be2f4",
      "metadata": {
        "id": "930be2f4"
      },
      "outputs": [],
      "source": [
        "df['Label'].value_counts()"
      ]
    },
    {
      "cell_type": "code",
      "execution_count": null,
      "id": "8a58f3cc",
      "metadata": {
        "id": "8a58f3cc"
      },
      "outputs": [],
      "source": [
        "def change_label(df):\n",
        "  df.Label.replace(['DoS Hulk','DDoS','DoS GoldenEye','DoS slowloris','DoS Slowhttptest','Heartbleed'],'Dos',inplace=True)\n",
        "  df.Label.replace(['Web Attack � Brute Force','Web Attack � XSS','Web Attack � Sql Injection'],'WebAttack',inplace=True)\n",
        "  df.Label.replace(['FTP-Patator','SSH-Patator'],'BruteForce',inplace=True)"
      ]
    },
    {
      "cell_type": "code",
      "execution_count": null,
      "id": "4afa6e6e",
      "metadata": {
        "id": "4afa6e6e"
      },
      "outputs": [],
      "source": [
        "change_label(df)"
      ]
    },
    {
      "cell_type": "code",
      "execution_count": null,
      "id": "dcd35ab4",
      "metadata": {
        "id": "dcd35ab4"
      },
      "outputs": [],
      "source": [
        "df['Label'].value_counts()"
      ]
    },
    {
      "cell_type": "code",
      "execution_count": null,
      "id": "fd892af6",
      "metadata": {
        "id": "fd892af6"
      },
      "outputs": [],
      "source": [
        "Label = pd.DataFrame(df.Label)\n",
        "Label"
      ]
    },
    {
      "cell_type": "code",
      "execution_count": null,
      "id": "9662158e",
      "metadata": {
        "id": "9662158e"
      },
      "outputs": [],
      "source": [
        "std_scaler = MinMaxScaler()\n",
        "def standardization(df,col):\n",
        "    for i in col:\n",
        "        arr = df[i]\n",
        "        arr = np.array(arr)\n",
        "        df[i] = std_scaler.fit_transform(arr.reshape(len(arr),1))\n",
        "    return df\n",
        "\n",
        "numeric_col = df.select_dtypes(include='number').columns\n",
        "df = standardization(df,numeric_col)"
      ]
    },
    {
      "cell_type": "code",
      "execution_count": null,
      "id": "75f8f7b2",
      "metadata": {
        "id": "75f8f7b2"
      },
      "outputs": [],
      "source": [
        "df"
      ]
    },
    {
      "cell_type": "code",
      "execution_count": null,
      "id": "06847d60",
      "metadata": {
        "id": "06847d60"
      },
      "outputs": [],
      "source": [
        "X = df.drop('Label', axis=1)\n",
        "y = df['Label']"
      ]
    },
    {
      "cell_type": "code",
      "execution_count": null,
      "id": "4fdbb2d5",
      "metadata": {
        "id": "4fdbb2d5"
      },
      "outputs": [],
      "source": [
        "# One Hot encoding  (BENIGN, Bot, BruteForce, DoS, Infiltration, PortScan, WebAttack)\n",
        "\n",
        "encoder = OneHotEncoder(sparse_output=False)\n",
        "y_encoded = encoder.fit_transform(y.values.reshape(-1, 1))\n",
        "y_encoded = pd.DataFrame(y_encoded)\n",
        "y_encoded"
      ]
    },
    {
      "cell_type": "code",
      "execution_count": null,
      "id": "0962bf28",
      "metadata": {
        "id": "0962bf28"
      },
      "outputs": [],
      "source": [
        "X = X.reset_index(drop=True)"
      ]
    },
    {
      "cell_type": "code",
      "execution_count": null,
      "id": "540474a9",
      "metadata": {
        "id": "540474a9"
      },
      "outputs": [],
      "source": [
        "X.info()"
      ]
    },
    {
      "cell_type": "code",
      "execution_count": null,
      "id": "329f280d",
      "metadata": {
        "id": "329f280d"
      },
      "outputs": [],
      "source": [
        "df = pd.concat([X, y_encoded], axis=1)\n",
        "df"
      ]
    },
    {
      "cell_type": "code",
      "execution_count": null,
      "id": "502a16f3",
      "metadata": {
        "id": "502a16f3"
      },
      "outputs": [],
      "source": [
        "X_train,X_test,y_train,y_test=train_test_split(X,y_encoded,test_size=0.2)\n",
        "print(X_train.shape,\" \",X_test.shape)\n",
        "print(y_train.shape,\" \",y_test.shape)"
      ]
    },
    {
      "cell_type": "code",
      "execution_count": null,
      "id": "f5885227",
      "metadata": {
        "id": "f5885227"
      },
      "outputs": [],
      "source": [
        "#selecting 1% of random rows for better running time\n",
        "\n",
        "X_train = X_train.sample(frac=0.1, replace=True, random_state=1)\n",
        "y_train = y_train.sample(frac=0.1, replace=True, random_state=1)\n",
        "X_test = X_test.sample(frac=0.1, replace=True, random_state=1)\n",
        "y_test = y_test.sample(frac=0.1, replace=True, random_state=1)\n",
        "print (X_train.shape, y_train.shape)\n",
        "print( X_test.shape, y_test.shape)"
      ]
    },
    {
      "cell_type": "code",
      "execution_count": null,
      "id": "60112370",
      "metadata": {
        "id": "60112370"
      },
      "outputs": [],
      "source": [
        "X_train=np.array(X_train)\n",
        "X_test=np.array(X_test)\n",
        "y=np.array(y)"
      ]
    },
    {
      "cell_type": "code",
      "execution_count": null,
      "id": "1ead9a50",
      "metadata": {
        "id": "1ead9a50"
      },
      "outputs": [],
      "source": [
        "X_train = np.reshape(X_train, ( X_train.shape[0], 1 , X_train.shape[1] ))\n",
        "X_test = np.reshape(X_test, ( X_test.shape[0], 1,  X_test.shape[1] ))"
      ]
    },
    {
      "cell_type": "code",
      "execution_count": null,
      "id": "3457920b",
      "metadata": {
        "id": "3457920b"
      },
      "outputs": [],
      "source": [
        "from keras.layers import Dense, LSTM, MaxPool1D, Flatten, Dropout # importing dense layer\n",
        "from keras.models import Sequential #importing Sequential layer\n",
        "from keras.layers import Input\n",
        "from keras.models import Model\n",
        "\n",
        "model = Sequential() # initializing model\n",
        "model.add(LSTM(64,return_sequences=True,input_shape = (1, X_train.shape[2])))\n",
        "model.add(Dropout(0.2))\n",
        "model.add(LSTM(64,return_sequences=True))\n",
        "model.add(Dropout(0.2))\n",
        "model.add(LSTM(64,return_sequences=True))\n",
        "model.add(Flatten())\n",
        "model.add(Dense(units=50))\n",
        "# output layer with softmax activation\n",
        "model.add(Dense(units=7,activation='softmax'))"
      ]
    },
    {
      "cell_type": "code",
      "execution_count": null,
      "id": "d0d7f2b0",
      "metadata": {
        "id": "d0d7f2b0"
      },
      "outputs": [],
      "source": [
        "# defining loss function, optimizer, metrics and then compiling model\n",
        "model.compile(loss='categorical_crossentropy', optimizer='adam', metrics=['accuracy'])"
      ]
    },
    {
      "cell_type": "code",
      "execution_count": null,
      "id": "0d843eee",
      "metadata": {
        "id": "0d843eee"
      },
      "outputs": [],
      "source": [
        "# summary of model layers\n",
        "model.summary()"
      ]
    },
    {
      "cell_type": "code",
      "execution_count": null,
      "id": "kupeeMqFEu1b",
      "metadata": {
        "id": "kupeeMqFEu1b"
      },
      "outputs": [],
      "source": [
        "!nvidia-smi # ONLY IN COLAB, if you are using Macbook, you need to change it according to your run time"
      ]
    },
    {
      "cell_type": "code",
      "execution_count": null,
      "id": "B6PxXSzuExqp",
      "metadata": {
        "id": "B6PxXSzuExqp"
      },
      "outputs": [],
      "source": [
        "import tensorflow as tf\n",
        "print(\"Num GPUs Available:\", len(tf.config.list_physical_devices('GPU')))\n",
        "tf.config.list_physical_devices('GPU')"
      ]
    },
    {
      "cell_type": "code",
      "execution_count": null,
      "id": "dZQq4MWFE06y",
      "metadata": {
        "id": "dZQq4MWFE06y"
      },
      "outputs": [],
      "source": [
        "import tensorflow as tf\n",
        "import subprocess\n",
        "\n",
        "class GpuUsageLogger(tf.keras.callbacks.Callback):\n",
        "    def on_epoch_end(self, epoch, logs=None):\n",
        "        print(f\"\\n--- Epoch {epoch+1} GPU Usage ---\")\n",
        "        print(subprocess.getoutput(\"nvidia-smi --query-gpu=memory.used,memory.total,utilization.gpu --format=csv\"))\n",
        "\n",
        "with tf.device('/GPU:0'):\n",
        "    history = model.fit(\n",
        "        X_train, y_train,\n",
        "        epochs=100,  # use small number for test\n",
        "        batch_size=5000,\n",
        "        validation_split=0.2,\n",
        "        callbacks=[GpuUsageLogger()]\n",
        "    )\n"
      ]
    },
    {
      "cell_type": "code",
      "execution_count": null,
      "id": "0f59535a",
      "metadata": {
        "id": "0f59535a"
      },
      "outputs": [],
      "source": [
        "test_results = model.evaluate(X_test, y_test, verbose=1)\n",
        "print(f'Test results - Loss: {test_results[0]} - Accuracy: {test_results[1]*100}%')"
      ]
    },
    {
      "cell_type": "code",
      "execution_count": null,
      "id": "t8TuKxomkf5R",
      "metadata": {
        "id": "t8TuKxomkf5R"
      },
      "outputs": [],
      "source": [
        "model.save('LSTM_without_feature_extraction.keras')"
      ]
    }
  ],
  "metadata": {
    "accelerator": "GPU",
    "colab": {
      "gpuType": "T4",
      "include_colab_link": true,
      "provenance": []
    },
    "kernelspec": {
      "display_name": "Python 3",
      "name": "python3"
    },
    "language_info": {
      "codemirror_mode": {
        "name": "ipython",
        "version": 3
      },
      "file_extension": ".py",
      "mimetype": "text/x-python",
      "name": "python",
      "nbconvert_exporter": "python",
      "pygments_lexer": "ipython3",
      "version": "3.9.7"
    }
  },
  "nbformat": 4,
  "nbformat_minor": 5
}
