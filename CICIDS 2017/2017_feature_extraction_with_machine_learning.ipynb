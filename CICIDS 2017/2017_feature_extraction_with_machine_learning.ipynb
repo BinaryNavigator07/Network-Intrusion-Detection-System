{
  "cells": [
    {
      "cell_type": "markdown",
      "metadata": {
        "id": "view-in-github",
        "colab_type": "text"
      },
      "source": [
        "<a href=\"https://colab.research.google.com/github/BinaryNavigator07/Network-Intrusion-Detection-System/blob/main/CICIDS%202017/2017_feature_extraction_with_machine_learning.ipynb\" target=\"_parent\"><img src=\"https://colab.research.google.com/assets/colab-badge.svg\" alt=\"Open In Colab\"/></a>"
      ]
    },
    {
      "cell_type": "code",
      "execution_count": null,
      "id": "cc0cbc5c",
      "metadata": {
        "id": "cc0cbc5c"
      },
      "outputs": [],
      "source": [
        "!pip install seaborn catboost --quiet\n",
        "import os\n",
        "import pandas as pd\n",
        "import numpy as np\n",
        "import seaborn as sb\n",
        "import matplotlib.pyplot as plt\n",
        "from sklearn.model_selection import train_test_split\n",
        "from sklearn.preprocessing import MinMaxScaler\n",
        "from sklearn.preprocessing import OneHotEncoder\n",
        "from sklearn.feature_selection import SelectFromModel\n",
        "from sklearn.metrics import accuracy_score\n",
        "from sklearn.ensemble import RandomForestClassifier\n",
        "from sklearn.feature_selection import RFE\n",
        "import xgboost as xgb\n",
        "from sklearn.naive_bayes import GaussianNB\n",
        "from sklearn.svm import SVC\n",
        "from catboost import CatBoostClassifier\n",
        "from sklearn.tree import DecisionTreeClassifier\n",
        "np.random.seed(178)"
      ]
    },
    {
      "cell_type": "code",
      "execution_count": null,
      "id": "6e61a767",
      "metadata": {
        "id": "6e61a767"
      },
      "outputs": [],
      "source": [
        "import os\n",
        "import pandas as pd\n",
        "import kagglehub\n",
        "\n",
        "path1 = kagglehub.dataset_download(\"chethuhn/network-intrusion-dataset\")\n",
        "print(\"Dataset 1 folder:\", path1)\n",
        "\n",
        "csv_file_names1 = [f for f in os.listdir(path1) if f.endswith(\".csv\")]\n",
        "print(f\"Found {len(csv_file_names1)} CSV files in dataset 1.\")\n",
        "\n",
        "dfs = []\n",
        "for file_name in csv_file_names1:\n",
        "    file_path = os.path.join(path1, file_name)\n",
        "    print(\"Loading:\", file_path)\n",
        "    df1 = pd.read_csv(file_path)\n",
        "    dfs.append(df1)\n",
        "\n",
        "path2 = kagglehub.dataset_download(\"solarmainframe/ids-intrusion-csv\")\n",
        "print(\"Dataset 2 folder:\", path2)\n",
        "\n",
        "csv_file_names2 = [f for f in os.listdir(path2) if f.endswith(\".csv\")]\n",
        "print(f\"Found {len(csv_file_names2)} CSV files in dataset 2.\")\n",
        "\n",
        "for file_name in csv_file_names2:\n",
        "    file_path = os.path.join(path2, file_name)\n",
        "    print(\"Loading:\", file_path)\n",
        "    df2 = pd.read_csv(file_path)\n",
        "    dfs.append(df2)\n",
        "\n",
        "df = pd.concat(dfs, ignore_index=True)\n",
        "print(\"Shape of combined data:\", df.shape)\n",
        "\n",
        "df.head()"
      ]
    },
    {
      "cell_type": "code",
      "execution_count": null,
      "id": "7b9ee3cf",
      "metadata": {
        "id": "7b9ee3cf"
      },
      "outputs": [],
      "source": [
        "df.columns"
      ]
    },
    {
      "cell_type": "code",
      "execution_count": null,
      "id": "597870b7",
      "metadata": {
        "id": "597870b7"
      },
      "outputs": [],
      "source": [
        "df.info()"
      ]
    },
    {
      "cell_type": "code",
      "execution_count": null,
      "id": "09de4ba9",
      "metadata": {
        "id": "09de4ba9"
      },
      "outputs": [],
      "source": [
        "df.describe()"
      ]
    },
    {
      "cell_type": "code",
      "execution_count": null,
      "id": "7a1cb834",
      "metadata": {
        "id": "7a1cb834"
      },
      "outputs": [],
      "source": [
        "df[' Label'].nunique()"
      ]
    },
    {
      "cell_type": "markdown",
      "id": "efd4cfba",
      "metadata": {
        "id": "efd4cfba"
      },
      "source": [
        "### Data Cleaning"
      ]
    },
    {
      "cell_type": "code",
      "execution_count": null,
      "id": "2ebc4192",
      "metadata": {
        "id": "2ebc4192"
      },
      "outputs": [],
      "source": [
        "\n",
        "from itertools import combinations\n",
        "\n",
        "def data_cleaning(df):\n",
        "    df.columns=df.columns.str.strip()\n",
        "    print(\"Dataset Shape: \",df.shape)\n",
        "\n",
        "    num=df._get_numeric_data()\n",
        "    num[num<0]=0\n",
        "\n",
        "    zero_variance_cols=[]\n",
        "    for col in df.columns:\n",
        "        if len(df[col].unique()) == 1:\n",
        "            zero_variance_cols.append(col)\n",
        "    df.drop(columns=zero_variance_cols,axis=1,inplace=True)\n",
        "    print(\"Zero Variance Columns: \",zero_variance_cols, \" are dropped!!\")\n",
        "    print(\"Shape after removing the zero variance columns: \",df.shape)\n",
        "\n",
        "    df.replace([np.inf,-np.inf],np.nan,inplace=True)\n",
        "    print(df.isna().any(axis=1).sum(), \"rows dropped\")\n",
        "    df.dropna(inplace=True)\n",
        "    print(\"Shape after Removing NaN: \",df.shape)\n",
        "\n",
        "    df.drop_duplicates(inplace=True)\n",
        "    print(\"Shape after dropping duplicates: \",df.shape)\n",
        "\n",
        "    column_pairs = [(i,j) for i,j in combinations(df,2) if df[i].equals(df[j])]\n",
        "    ide_cols=[]\n",
        "    for col_pair in column_pairs:\n",
        "        ide_cols.append(col_pair[1])\n",
        "    df.drop(columns=ide_cols,axis=1,inplace=True)\n",
        "    print(\"Columns which have identical values: \",column_pairs,\" dropped!\")\n",
        "    print(\"Shape after removing identical value columns: \",df.shape)\n",
        "    return df\n",
        "df=data_cleaning(df)"
      ]
    },
    {
      "cell_type": "code",
      "execution_count": null,
      "id": "eb65a3c6",
      "metadata": {
        "id": "eb65a3c6"
      },
      "outputs": [],
      "source": [
        "df.columns"
      ]
    },
    {
      "cell_type": "code",
      "execution_count": null,
      "id": "9711ce13",
      "metadata": {
        "id": "9711ce13"
      },
      "outputs": [],
      "source": [
        "df['Label'].value_counts()"
      ]
    },
    {
      "cell_type": "code",
      "execution_count": null,
      "id": "d13a7f92",
      "metadata": {
        "id": "d13a7f92"
      },
      "outputs": [],
      "source": [
        "# Install Seaborn if not already installed\n",
        "!pip install seaborn --quiet\n",
        "\n",
        "import matplotlib.pyplot as plt\n",
        "import seaborn as sns\n",
        "\n",
        "plt.figure(figsize=(12, 6))\n",
        "\n",
        "# Make sure 'Label' column exists in your DataFrame\n",
        "plot = sns.countplot(\n",
        "    data=df.loc[df['Label'] != 'BENIGN'],\n",
        "    y='Label'\n",
        ")\n",
        "\n",
        "plt.xscale('log')\n",
        "plt.tight_layout()\n",
        "\n",
        "# Save the plot\n",
        "fig = plot.get_figure()\n",
        "fig.savefig('img1.png')\n",
        "\n",
        "plt.show()"
      ]
    },
    {
      "cell_type": "markdown",
      "id": "08afe076",
      "metadata": {
        "id": "08afe076"
      },
      "source": [
        "### Data Normalization"
      ]
    },
    {
      "cell_type": "code",
      "execution_count": null,
      "id": "d1ce15bb",
      "metadata": {
        "id": "d1ce15bb"
      },
      "outputs": [],
      "source": [
        "from sklearn.preprocessing import MinMaxScaler, OneHotEncoder\n",
        "import pandas as pd\n",
        "\n",
        "# Feature / target split\n",
        "X = df.drop('Label', axis=1)\n",
        "y = df['Label']\n",
        "\n",
        "# Min-Max scaling for features\n",
        "scaler = MinMaxScaler()\n",
        "X_scaled = scaler.fit_transform(X)\n",
        "X_scaled = pd.DataFrame(X_scaled, columns=X.columns)\n",
        "\n",
        "# One-hot encoding for the label (compatible with all versions)\n",
        "try:\n",
        "    encoder = OneHotEncoder(sparse_output=False)  # New versions\n",
        "except TypeError:\n",
        "    encoder = OneHotEncoder(sparse=False)  # Old versions\n",
        "\n",
        "y_encoded = encoder.fit_transform(y.values.reshape(-1, 1))\n",
        "y_encoded = pd.DataFrame(\n",
        "    y_encoded,\n",
        "    columns=encoder.get_feature_names_out(['Label'])\n",
        ")\n",
        "\n",
        "print(\"X_scaled shape:\", X_scaled.shape)\n",
        "print(\"y_encoded shape:\", y_encoded.shape)\n"
      ]
    },
    {
      "cell_type": "code",
      "execution_count": null,
      "id": "0ea625cf",
      "metadata": {
        "id": "0ea625cf"
      },
      "outputs": [],
      "source": [
        "X_scaled"
      ]
    },
    {
      "cell_type": "code",
      "execution_count": null,
      "id": "85060ae0",
      "metadata": {
        "id": "85060ae0"
      },
      "outputs": [],
      "source": [
        "y_encoded"
      ]
    },
    {
      "cell_type": "code",
      "execution_count": null,
      "id": "ff65abc4",
      "metadata": {
        "id": "ff65abc4"
      },
      "outputs": [],
      "source": [
        "# Combine the scaled features and the one-hot encoded label\n",
        "df = pd.concat([X_scaled, y_encoded], axis=1)\n",
        "df"
      ]
    },
    {
      "cell_type": "code",
      "execution_count": null,
      "id": "09e63eca",
      "metadata": {
        "id": "09e63eca"
      },
      "outputs": [],
      "source": [
        "X_train,X_test,y_train,y_test=train_test_split(X_scaled,y_encoded,test_size=0.2)\n",
        "print(X_train.shape,\" \",X_test.shape)\n",
        "print(y_train.shape,\" \",y_test.shape)"
      ]
    },
    {
      "cell_type": "code",
      "execution_count": null,
      "id": "3ee93f0a",
      "metadata": {
        "id": "3ee93f0a"
      },
      "outputs": [],
      "source": [
        "X_train"
      ]
    },
    {
      "cell_type": "code",
      "execution_count": null,
      "id": "aceee45c",
      "metadata": {
        "id": "aceee45c"
      },
      "outputs": [],
      "source": [
        "X_test"
      ]
    },
    {
      "cell_type": "code",
      "execution_count": null,
      "id": "459ebde5",
      "metadata": {
        "id": "459ebde5"
      },
      "outputs": [],
      "source": [
        "y_train"
      ]
    },
    {
      "cell_type": "code",
      "execution_count": null,
      "id": "01143cb2",
      "metadata": {
        "id": "01143cb2"
      },
      "outputs": [],
      "source": [
        "y_test"
      ]
    },
    {
      "cell_type": "code",
      "execution_count": null,
      "id": "74fc9df5",
      "metadata": {
        "id": "74fc9df5"
      },
      "outputs": [],
      "source": [
        "#selecting 1% of random rows for better running time\n",
        "\n",
        "X_train = X_train.sample(frac=0.1, replace=True, random_state=1)\n",
        "y_train = y_train.sample(frac=0.1, replace=True, random_state=1)\n",
        "X_test = X_test.sample(frac=0.1, replace=True, random_state=1)\n",
        "y_test = y_test.sample(frac=0.1, replace=True, random_state=1)\n",
        "print (X_train.shape, y_train.shape)\n",
        "print( X_test.shape, y_test.shape)"
      ]
    },
    {
      "cell_type": "markdown",
      "id": "27fb1290",
      "metadata": {
        "id": "27fb1290"
      },
      "source": [
        "### Feature extraction using Random Forest"
      ]
    },
    {
      "cell_type": "code",
      "execution_count": null,
      "id": "79448a27",
      "metadata": {
        "id": "79448a27"
      },
      "outputs": [],
      "source": [
        "sel = SelectFromModel(RandomForestClassifier(n_estimators=100, random_state=0, n_jobs=-1))\n",
        "sel.fit(X_train, y_train)\n",
        "sel.get_support()\n",
        "\n",
        "X_train.columns\n",
        "\n",
        "features = X_train.columns[sel.get_support()]\n",
        "print(features)\n",
        "\n",
        "print(len(features))\n",
        "\n",
        "np.mean(sel.estimator_.feature_importances_)\n",
        "print(sel.estimator_.feature_importances_)\n",
        "\n",
        "X_train_rfe = sel.transform(X_train)\n",
        "X_test_rfe = sel.transform(X_test)"
      ]
    },
    {
      "cell_type": "markdown",
      "id": "3200da18",
      "metadata": {
        "id": "3200da18"
      },
      "source": [
        "### Random Forest"
      ]
    },
    {
      "cell_type": "code",
      "execution_count": null,
      "id": "c46189da",
      "metadata": {
        "id": "c46189da"
      },
      "outputs": [],
      "source": [
        "from sklearn.metrics import classification_report,confusion_matrix,roc_curve,accuracy_score,f1_score,precision_score,recall_score\n",
        "def run_randomForest(X_train, X_test, y_train, y_test):\n",
        "    clf = RandomForestClassifier(n_estimators=100, random_state=0, n_jobs=-1)\n",
        "    clf.fit(X_train, y_train)\n",
        "    y_pred = clf.predict(X_test)\n",
        "    print('Accuracy: ', accuracy_score(y_test, y_pred))\n",
        "    print('Precision: ', precision_score(y_test, y_pred, average='weighted'))\n",
        "    print('Recall: ', recall_score(y_test, y_pred, average='weighted'))\n",
        "    print('F1 score: ', f1_score(y_test, y_pred, average='weighted'))"
      ]
    },
    {
      "cell_type": "code",
      "execution_count": null,
      "id": "561f4b6f",
      "metadata": {
        "id": "561f4b6f"
      },
      "outputs": [],
      "source": [
        "run_randomForest(X_train_rfe, X_test_rfe, y_train, y_test)"
      ]
    },
    {
      "cell_type": "markdown",
      "id": "9415fb1f",
      "metadata": {
        "id": "9415fb1f"
      },
      "source": [
        "### Decision Tree"
      ]
    },
    {
      "cell_type": "code",
      "execution_count": null,
      "id": "57ec747b",
      "metadata": {
        "id": "57ec747b"
      },
      "outputs": [],
      "source": [
        "def run_decisionTree(X_train, X_test, y_train, y_test):\n",
        "    clf = DecisionTreeClassifier(random_state=0)\n",
        "    clf.fit(X_train, y_train)\n",
        "    y_pred = clf.predict(X_test)\n",
        "    print('Accuracy: ', accuracy_score(y_test, y_pred))\n",
        "    print('Precision: ', precision_score(y_test, y_pred, average='weighted'))\n",
        "    print('Recall: ', recall_score(y_test, y_pred, average='weighted'))\n",
        "    print('F1 score: ', f1_score(y_test, y_pred, average='weighted'))"
      ]
    },
    {
      "cell_type": "code",
      "execution_count": null,
      "id": "f2697578",
      "metadata": {
        "id": "f2697578"
      },
      "outputs": [],
      "source": [
        "run_decisionTree(X_train_rfe, X_test_rfe, y_train, y_test)"
      ]
    },
    {
      "cell_type": "markdown",
      "id": "74a93546",
      "metadata": {
        "id": "74a93546"
      },
      "source": [
        "### Extreme-Gradient Boosting(XGBoost)"
      ]
    },
    {
      "cell_type": "code",
      "execution_count": null,
      "id": "b00d3397",
      "metadata": {
        "id": "b00d3397"
      },
      "outputs": [],
      "source": [
        "def run_XGBoost(X_train, X_test, y_train, y_test):\n",
        "    clf = xgb.XGBClassifier(n_estimators=100, random_state=0, n_jobs=-1)\n",
        "    clf.fit(X_train, y_train)\n",
        "    y_pred = clf.predict(X_test)\n",
        "    print('Accuracy: ', accuracy_score(y_test, y_pred))\n",
        "    print('Precision: ', precision_score(y_test, y_pred, average='weighted'))\n",
        "    print('Recall: ', recall_score(y_test, y_pred, average='weighted'))\n",
        "    print('F1 score: ', f1_score(y_test, y_pred, average='weighted'))"
      ]
    },
    {
      "cell_type": "code",
      "execution_count": null,
      "id": "2b70d028",
      "metadata": {
        "id": "2b70d028"
      },
      "outputs": [],
      "source": [
        "run_XGBoost(X_train_rfe, X_test_rfe, y_train, y_test)"
      ]
    },
    {
      "cell_type": "markdown",
      "id": "b30a0da0",
      "metadata": {
        "id": "b30a0da0"
      },
      "source": [
        "### Cat Boost"
      ]
    },
    {
      "cell_type": "code",
      "execution_count": null,
      "id": "774631ff",
      "metadata": {
        "id": "774631ff"
      },
      "outputs": [],
      "source": [
        "from sklearn.metrics import classification_report\n",
        "def run_catBoost(X_train, X_test, y_train, y_test):\n",
        "    y_train_labels = y_train.idxmax(axis=1)\n",
        "    y_test_labels = y_test.idxmax(axis=1)\n",
        "    clf = CatBoostClassifier(iterations=100, random_state=0, verbose=0)\n",
        "    clf.fit(X_train, y_train_labels, cat_features=[], verbose=0)\n",
        "    y_pred_labels = clf.predict(X_test)\n",
        "    print('Accuracy: ', accuracy_score(y_test_labels, y_pred_labels))\n",
        "    print('Precision: ', precision_score(y_test_labels, y_pred_labels, average='weighted'))\n",
        "    print('Recall: ', recall_score(y_test_labels, y_pred_labels, average='weighted'))\n",
        "    print('F1 score: ', f1_score(y_test_labels, y_pred_labels, average='weighted'))"
      ]
    },
    {
      "cell_type": "code",
      "execution_count": null,
      "id": "66c32386",
      "metadata": {
        "id": "66c32386"
      },
      "outputs": [],
      "source": [
        "run_catBoost(X_train_rfe, X_test_rfe, y_train, y_test)"
      ]
    },
    {
      "cell_type": "code",
      "execution_count": null,
      "id": "dcc07d62",
      "metadata": {
        "id": "dcc07d62"
      },
      "outputs": [],
      "source": [
        "models = ['Random Forest', 'Decision Tree', 'XG-Boost', 'Cat-Boost']\n",
        "random_forest = [99.80, 99.79, 99.80, 99.79]\n",
        "decision_tree = [99.71, 99.72, 99.71, 99.71]\n",
        "xgboost = [99.75, 99.77, 99.80, 99.78]\n",
        "catboost = [99.55, 99.55, 99.55, 99.53]\n",
        "\n",
        "metrics = ['Accuracy', 'Precision', 'Recall', 'F1 Score']\n",
        "values = [random_forest, decision_tree, xgboost, catboost]\n",
        "\n",
        "fig, axs = plt.subplots(2, 2, figsize=(10, 8))\n",
        "axs = axs.flatten()\n",
        "\n",
        "for i, (model, ax) in enumerate(zip(models, axs)):\n",
        "    max_value = max(values[i]) + 2\n",
        "    ax.bar(metrics, values[i], color=['#4285F4', '#DB4437', '#F4B400', '#0F9D58'])\n",
        "    ax.set_title(f'{model} Performance', fontsize=14, fontweight='bold')\n",
        "    ax.set_ylim(90, max_value)\n",
        "\n",
        "\n",
        "    for j, v in enumerate(values[i]):\n",
        "        ax.annotate(f'{v:.2f}%', xy=(j, v), xytext=(0, 8),\n",
        "                    textcoords=\"offset points\", ha='center', va='bottom', fontsize=10)\n",
        "\n",
        "    ax.set_xlabel('Metric', fontsize=12)\n",
        "    ax.set_ylabel('Score', fontsize=12)\n",
        "\n",
        "plt.tight_layout()\n",
        "plt.show()"
      ]
    }
  ],
  "metadata": {
    "kernelspec": {
      "display_name": "Python 3 (ipykernel)",
      "language": "python",
      "name": "python3"
    },
    "language_info": {
      "codemirror_mode": {
        "name": "ipython",
        "version": 3
      },
      "file_extension": ".py",
      "mimetype": "text/x-python",
      "name": "python",
      "nbconvert_exporter": "python",
      "pygments_lexer": "ipython3",
      "version": "3.9.7"
    },
    "colab": {
      "provenance": [],
      "include_colab_link": true
    }
  },
  "nbformat": 4,
  "nbformat_minor": 5
}