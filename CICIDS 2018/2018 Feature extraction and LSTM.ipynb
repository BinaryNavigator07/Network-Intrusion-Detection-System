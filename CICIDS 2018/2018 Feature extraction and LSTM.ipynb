{
  "cells": [
    {
      "cell_type": "code",
      "execution_count": 1,
      "id": "903047d1",
      "metadata": {
        "id": "903047d1"
      },
      "outputs": [
        {
          "name": "stdout",
          "output_type": "stream",
          "text": [
            "\n",
            "\u001b[1m[\u001b[0m\u001b[34;49mnotice\u001b[0m\u001b[1;39;49m]\u001b[0m\u001b[39;49m A new release of pip is available: \u001b[0m\u001b[31;49m25.1.1\u001b[0m\u001b[39;49m -> \u001b[0m\u001b[32;49m25.2\u001b[0m\n",
            "\u001b[1m[\u001b[0m\u001b[34;49mnotice\u001b[0m\u001b[1;39;49m]\u001b[0m\u001b[39;49m To update, run: \u001b[0m\u001b[32;49mpip install --upgrade pip\u001b[0m\n"
          ]
        },
        {
          "name": "stderr",
          "output_type": "stream",
          "text": [
            "2025-08-11 05:44:23.146499: I tensorflow/core/platform/cpu_feature_guard.cc:182] This TensorFlow binary is optimized to use available CPU instructions in performance-critical operations.\n",
            "To enable the following instructions: AVX2 FMA, in other operations, rebuild TensorFlow with the appropriate compiler flags.\n"
          ]
        }
      ],
      "source": [
        "!pip install seaborn catboost --quiet\n",
        "import tensorflow as tf\n",
        "import pandas as pd\n",
        "import numpy as np\n",
        "import sklearn\n",
        "from keras.models import Sequential, load_model\n",
        "from sklearn.model_selection import train_test_split\n",
        "from sklearn.linear_model import LogisticRegression\n",
        "from sklearn import preprocessing\n",
        "from sklearn.preprocessing import LabelEncoder, StandardScaler,OneHotEncoder\n",
        "from sklearn.metrics import confusion_matrix\n",
        "from tensorflow.keras.utils import to_categorical"
      ]
    },
    {
      "cell_type": "code",
      "execution_count": 2,
      "id": "4d2a7c90",
      "metadata": {
        "id": "4d2a7c90"
      },
      "outputs": [
        {
          "name": "stderr",
          "output_type": "stream",
          "text": [
            "/Users/macbookpro/Documents/Network-Intrusion-Detection-System/.venv/lib/python3.10/site-packages/tqdm/auto.py:21: TqdmWarning: IProgress not found. Please update jupyter and ipywidgets. See https://ipywidgets.readthedocs.io/en/stable/user_install.html\n",
            "  from .autonotebook import tqdm as notebook_tqdm\n"
          ]
        },
        {
          "name": "stdout",
          "output_type": "stream",
          "text": [
            "Downloading from https://www.kaggle.com/api/v1/datasets/download/solarmainframe/ids-intrusion-csv?dataset_version_number=1...\n"
          ]
        },
        {
          "name": "stderr",
          "output_type": "stream",
          "text": [
            "100%|██████████| 1.60G/1.60G [08:51<00:00, 3.23MB/s]"
          ]
        },
        {
          "name": "stdout",
          "output_type": "stream",
          "text": [
            "Extracting files...\n"
          ]
        },
        {
          "name": "stderr",
          "output_type": "stream",
          "text": [
            "\n"
          ]
        },
        {
          "name": "stdout",
          "output_type": "stream",
          "text": [
            "Dataset folder for 2018: /Users/macbookpro/.cache/kagglehub/datasets/solarmainframe/ids-intrusion-csv/versions/1\n",
            "Found 10 CSV files in 2018 dataset.\n",
            "Loading: /Users/macbookpro/.cache/kagglehub/datasets/solarmainframe/ids-intrusion-csv/versions/1/02-14-2018.csv\n",
            "Loading: /Users/macbookpro/.cache/kagglehub/datasets/solarmainframe/ids-intrusion-csv/versions/1/02-15-2018.csv\n",
            "Loading: /Users/macbookpro/.cache/kagglehub/datasets/solarmainframe/ids-intrusion-csv/versions/1/02-20-2018.csv\n",
            "Loading: /Users/macbookpro/.cache/kagglehub/datasets/solarmainframe/ids-intrusion-csv/versions/1/02-21-2018.csv\n",
            "Loading: /Users/macbookpro/.cache/kagglehub/datasets/solarmainframe/ids-intrusion-csv/versions/1/03-01-2018.csv\n",
            "Shape of combined 2018 data: (11425598, 84)\n"
          ]
        },
        {
          "data": {
            "application/vnd.microsoft.datawrangler.viewer.v0+json": {
              "columns": [
                {
                  "name": "index",
                  "rawType": "int64",
                  "type": "integer"
                },
                {
                  "name": "Dst Port",
                  "rawType": "object",
                  "type": "unknown"
                },
                {
                  "name": "Protocol",
                  "rawType": "object",
                  "type": "unknown"
                },
                {
                  "name": "Timestamp",
                  "rawType": "object",
                  "type": "string"
                },
                {
                  "name": "Flow Duration",
                  "rawType": "object",
                  "type": "unknown"
                },
                {
                  "name": "Tot Fwd Pkts",
                  "rawType": "object",
                  "type": "unknown"
                },
                {
                  "name": "Tot Bwd Pkts",
                  "rawType": "object",
                  "type": "unknown"
                },
                {
                  "name": "TotLen Fwd Pkts",
                  "rawType": "object",
                  "type": "unknown"
                },
                {
                  "name": "TotLen Bwd Pkts",
                  "rawType": "object",
                  "type": "unknown"
                },
                {
                  "name": "Fwd Pkt Len Max",
                  "rawType": "object",
                  "type": "unknown"
                },
                {
                  "name": "Fwd Pkt Len Min",
                  "rawType": "object",
                  "type": "unknown"
                },
                {
                  "name": "Fwd Pkt Len Mean",
                  "rawType": "object",
                  "type": "unknown"
                },
                {
                  "name": "Fwd Pkt Len Std",
                  "rawType": "object",
                  "type": "unknown"
                },
                {
                  "name": "Bwd Pkt Len Max",
                  "rawType": "object",
                  "type": "unknown"
                },
                {
                  "name": "Bwd Pkt Len Min",
                  "rawType": "object",
                  "type": "unknown"
                },
                {
                  "name": "Bwd Pkt Len Mean",
                  "rawType": "object",
                  "type": "unknown"
                },
                {
                  "name": "Bwd Pkt Len Std",
                  "rawType": "object",
                  "type": "unknown"
                },
                {
                  "name": "Flow Byts/s",
                  "rawType": "object",
                  "type": "unknown"
                },
                {
                  "name": "Flow Pkts/s",
                  "rawType": "object",
                  "type": "unknown"
                },
                {
                  "name": "Flow IAT Mean",
                  "rawType": "object",
                  "type": "unknown"
                },
                {
                  "name": "Flow IAT Std",
                  "rawType": "object",
                  "type": "unknown"
                },
                {
                  "name": "Flow IAT Max",
                  "rawType": "object",
                  "type": "unknown"
                },
                {
                  "name": "Flow IAT Min",
                  "rawType": "object",
                  "type": "unknown"
                },
                {
                  "name": "Fwd IAT Tot",
                  "rawType": "object",
                  "type": "unknown"
                },
                {
                  "name": "Fwd IAT Mean",
                  "rawType": "object",
                  "type": "unknown"
                },
                {
                  "name": "Fwd IAT Std",
                  "rawType": "object",
                  "type": "unknown"
                },
                {
                  "name": "Fwd IAT Max",
                  "rawType": "object",
                  "type": "unknown"
                },
                {
                  "name": "Fwd IAT Min",
                  "rawType": "object",
                  "type": "unknown"
                },
                {
                  "name": "Bwd IAT Tot",
                  "rawType": "object",
                  "type": "unknown"
                },
                {
                  "name": "Bwd IAT Mean",
                  "rawType": "object",
                  "type": "unknown"
                },
                {
                  "name": "Bwd IAT Std",
                  "rawType": "object",
                  "type": "unknown"
                },
                {
                  "name": "Bwd IAT Max",
                  "rawType": "object",
                  "type": "unknown"
                },
                {
                  "name": "Bwd IAT Min",
                  "rawType": "object",
                  "type": "unknown"
                },
                {
                  "name": "Fwd PSH Flags",
                  "rawType": "object",
                  "type": "unknown"
                },
                {
                  "name": "Bwd PSH Flags",
                  "rawType": "object",
                  "type": "unknown"
                },
                {
                  "name": "Fwd URG Flags",
                  "rawType": "object",
                  "type": "unknown"
                },
                {
                  "name": "Bwd URG Flags",
                  "rawType": "object",
                  "type": "unknown"
                },
                {
                  "name": "Fwd Header Len",
                  "rawType": "object",
                  "type": "unknown"
                },
                {
                  "name": "Bwd Header Len",
                  "rawType": "object",
                  "type": "unknown"
                },
                {
                  "name": "Fwd Pkts/s",
                  "rawType": "object",
                  "type": "unknown"
                },
                {
                  "name": "Bwd Pkts/s",
                  "rawType": "object",
                  "type": "unknown"
                },
                {
                  "name": "Pkt Len Min",
                  "rawType": "object",
                  "type": "unknown"
                },
                {
                  "name": "Pkt Len Max",
                  "rawType": "object",
                  "type": "unknown"
                },
                {
                  "name": "Pkt Len Mean",
                  "rawType": "object",
                  "type": "unknown"
                },
                {
                  "name": "Pkt Len Std",
                  "rawType": "object",
                  "type": "unknown"
                },
                {
                  "name": "Pkt Len Var",
                  "rawType": "object",
                  "type": "unknown"
                },
                {
                  "name": "FIN Flag Cnt",
                  "rawType": "object",
                  "type": "unknown"
                },
                {
                  "name": "SYN Flag Cnt",
                  "rawType": "object",
                  "type": "unknown"
                },
                {
                  "name": "RST Flag Cnt",
                  "rawType": "object",
                  "type": "unknown"
                },
                {
                  "name": "PSH Flag Cnt",
                  "rawType": "object",
                  "type": "unknown"
                },
                {
                  "name": "ACK Flag Cnt",
                  "rawType": "object",
                  "type": "unknown"
                },
                {
                  "name": "URG Flag Cnt",
                  "rawType": "object",
                  "type": "unknown"
                },
                {
                  "name": "CWE Flag Count",
                  "rawType": "object",
                  "type": "unknown"
                },
                {
                  "name": "ECE Flag Cnt",
                  "rawType": "object",
                  "type": "unknown"
                },
                {
                  "name": "Down/Up Ratio",
                  "rawType": "object",
                  "type": "unknown"
                },
                {
                  "name": "Pkt Size Avg",
                  "rawType": "object",
                  "type": "unknown"
                },
                {
                  "name": "Fwd Seg Size Avg",
                  "rawType": "object",
                  "type": "unknown"
                },
                {
                  "name": "Bwd Seg Size Avg",
                  "rawType": "object",
                  "type": "unknown"
                },
                {
                  "name": "Fwd Byts/b Avg",
                  "rawType": "object",
                  "type": "unknown"
                },
                {
                  "name": "Fwd Pkts/b Avg",
                  "rawType": "object",
                  "type": "unknown"
                },
                {
                  "name": "Fwd Blk Rate Avg",
                  "rawType": "object",
                  "type": "unknown"
                },
                {
                  "name": "Bwd Byts/b Avg",
                  "rawType": "object",
                  "type": "unknown"
                },
                {
                  "name": "Bwd Pkts/b Avg",
                  "rawType": "object",
                  "type": "unknown"
                },
                {
                  "name": "Bwd Blk Rate Avg",
                  "rawType": "object",
                  "type": "unknown"
                },
                {
                  "name": "Subflow Fwd Pkts",
                  "rawType": "object",
                  "type": "unknown"
                },
                {
                  "name": "Subflow Fwd Byts",
                  "rawType": "object",
                  "type": "unknown"
                },
                {
                  "name": "Subflow Bwd Pkts",
                  "rawType": "object",
                  "type": "unknown"
                },
                {
                  "name": "Subflow Bwd Byts",
                  "rawType": "object",
                  "type": "unknown"
                },
                {
                  "name": "Init Fwd Win Byts",
                  "rawType": "object",
                  "type": "unknown"
                },
                {
                  "name": "Init Bwd Win Byts",
                  "rawType": "object",
                  "type": "unknown"
                },
                {
                  "name": "Fwd Act Data Pkts",
                  "rawType": "object",
                  "type": "unknown"
                },
                {
                  "name": "Fwd Seg Size Min",
                  "rawType": "object",
                  "type": "unknown"
                },
                {
                  "name": "Active Mean",
                  "rawType": "object",
                  "type": "unknown"
                },
                {
                  "name": "Active Std",
                  "rawType": "object",
                  "type": "unknown"
                },
                {
                  "name": "Active Max",
                  "rawType": "object",
                  "type": "unknown"
                },
                {
                  "name": "Active Min",
                  "rawType": "object",
                  "type": "unknown"
                },
                {
                  "name": "Idle Mean",
                  "rawType": "object",
                  "type": "unknown"
                },
                {
                  "name": "Idle Std",
                  "rawType": "object",
                  "type": "unknown"
                },
                {
                  "name": "Idle Max",
                  "rawType": "object",
                  "type": "unknown"
                },
                {
                  "name": "Idle Min",
                  "rawType": "object",
                  "type": "unknown"
                },
                {
                  "name": "Label",
                  "rawType": "object",
                  "type": "string"
                },
                {
                  "name": "Flow ID",
                  "rawType": "object",
                  "type": "unknown"
                },
                {
                  "name": "Src IP",
                  "rawType": "object",
                  "type": "unknown"
                },
                {
                  "name": "Src Port",
                  "rawType": "float64",
                  "type": "float"
                },
                {
                  "name": "Dst IP",
                  "rawType": "object",
                  "type": "unknown"
                }
              ],
              "ref": "4c7198e8-8f50-4080-9919-1a3e49e87bd4",
              "rows": [
                [
                  "0",
                  "0",
                  "0",
                  "14/02/2018 08:31:01",
                  "112641719",
                  "3",
                  "0",
                  "0",
                  "0",
                  "0",
                  "0",
                  "0.0",
                  "0.0",
                  "0",
                  "0",
                  "0.0",
                  "0.0",
                  "0.0",
                  "0.0266331163",
                  "56320859.5",
                  "139.3000358938",
                  "56320958",
                  "56320761",
                  "112641719",
                  "56320859.5",
                  "139.3000358938",
                  "56320958",
                  "56320761",
                  "0",
                  "0.0",
                  "0.0",
                  "0",
                  "0",
                  "0",
                  "0",
                  "0",
                  "0",
                  "0",
                  "0",
                  "0.0266331163",
                  "0.0",
                  "0",
                  "0",
                  "0.0",
                  "0.0",
                  "0.0",
                  "0",
                  "0",
                  "0",
                  "0",
                  "0",
                  "0",
                  "0",
                  "0",
                  "0",
                  "0.0",
                  "0.0",
                  "0.0",
                  "0",
                  "0",
                  "0",
                  "0",
                  "0",
                  "0",
                  "3",
                  "0",
                  "0",
                  "0",
                  "-1",
                  "-1",
                  "0",
                  "0",
                  "0.0",
                  "0.0",
                  "0",
                  "0",
                  "56320859.5",
                  "139.3000358938",
                  "56320958",
                  "56320761",
                  "Benign",
                  null,
                  null,
                  null,
                  null
                ],
                [
                  "1",
                  "0",
                  "0",
                  "14/02/2018 08:33:50",
                  "112641466",
                  "3",
                  "0",
                  "0",
                  "0",
                  "0",
                  "0",
                  "0.0",
                  "0.0",
                  "0",
                  "0",
                  "0.0",
                  "0.0",
                  "0.0",
                  "0.0266331761",
                  "56320733.0",
                  "114.5512985522",
                  "56320814",
                  "56320652",
                  "112641466",
                  "56320733.0",
                  "114.5512985522",
                  "56320814",
                  "56320652",
                  "0",
                  "0.0",
                  "0.0",
                  "0",
                  "0",
                  "0",
                  "0",
                  "0",
                  "0",
                  "0",
                  "0",
                  "0.0266331761",
                  "0.0",
                  "0",
                  "0",
                  "0.0",
                  "0.0",
                  "0.0",
                  "0",
                  "0",
                  "0",
                  "0",
                  "0",
                  "0",
                  "0",
                  "0",
                  "0",
                  "0.0",
                  "0.0",
                  "0.0",
                  "0",
                  "0",
                  "0",
                  "0",
                  "0",
                  "0",
                  "3",
                  "0",
                  "0",
                  "0",
                  "-1",
                  "-1",
                  "0",
                  "0",
                  "0.0",
                  "0.0",
                  "0",
                  "0",
                  "56320733.0",
                  "114.5512985522",
                  "56320814",
                  "56320652",
                  "Benign",
                  null,
                  null,
                  null,
                  null
                ],
                [
                  "2",
                  "0",
                  "0",
                  "14/02/2018 08:36:39",
                  "112638623",
                  "3",
                  "0",
                  "0",
                  "0",
                  "0",
                  "0",
                  "0.0",
                  "0.0",
                  "0",
                  "0",
                  "0.0",
                  "0.0",
                  "0.0",
                  "0.0266338483",
                  "56319311.5",
                  "301.9345955667",
                  "56319525",
                  "56319098",
                  "112638623",
                  "56319311.5",
                  "301.9345955667",
                  "56319525",
                  "56319098",
                  "0",
                  "0.0",
                  "0.0",
                  "0",
                  "0",
                  "0",
                  "0",
                  "0",
                  "0",
                  "0",
                  "0",
                  "0.0266338483",
                  "0.0",
                  "0",
                  "0",
                  "0.0",
                  "0.0",
                  "0.0",
                  "0",
                  "0",
                  "0",
                  "0",
                  "0",
                  "0",
                  "0",
                  "0",
                  "0",
                  "0.0",
                  "0.0",
                  "0.0",
                  "0",
                  "0",
                  "0",
                  "0",
                  "0",
                  "0",
                  "3",
                  "0",
                  "0",
                  "0",
                  "-1",
                  "-1",
                  "0",
                  "0",
                  "0.0",
                  "0.0",
                  "0",
                  "0",
                  "56319311.5",
                  "301.9345955667",
                  "56319525",
                  "56319098",
                  "Benign",
                  null,
                  null,
                  null,
                  null
                ],
                [
                  "3",
                  "22",
                  "6",
                  "14/02/2018 08:40:13",
                  "6453966",
                  "15",
                  "10",
                  "1239",
                  "2273",
                  "744",
                  "0",
                  "82.6",
                  "196.7412368715",
                  "976",
                  "0",
                  "227.3",
                  "371.6778922072",
                  "544.1615279659",
                  "3.8735871865",
                  "268915.25",
                  "247443.778966007",
                  "673900",
                  "22",
                  "6453966",
                  "460997.571428571",
                  "123109.423587757",
                  "673900",
                  "229740",
                  "5637902",
                  "626433.555555556",
                  "455082.21422401",
                  "1167293",
                  "554",
                  "0",
                  "0",
                  "0",
                  "0",
                  "488",
                  "328",
                  "2.3241523119",
                  "1.5494348746",
                  "0",
                  "976",
                  "135.0769230769",
                  "277.8347599674",
                  "77192.1538461539",
                  "0",
                  "0",
                  "0",
                  "1",
                  "0",
                  "0",
                  "0",
                  "0",
                  "0",
                  "140.48",
                  "82.6",
                  "227.3",
                  "0",
                  "0",
                  "0",
                  "0",
                  "0",
                  "0",
                  "15",
                  "1239",
                  "10",
                  "2273",
                  "65535",
                  "233",
                  "6",
                  "32",
                  "0.0",
                  "0.0",
                  "0",
                  "0",
                  "0.0",
                  "0.0",
                  "0",
                  "0",
                  "Benign",
                  null,
                  null,
                  null,
                  null
                ],
                [
                  "4",
                  "22",
                  "6",
                  "14/02/2018 08:40:23",
                  "8804066",
                  "14",
                  "11",
                  "1143",
                  "2209",
                  "744",
                  "0",
                  "81.6428571429",
                  "203.7455453568",
                  "976",
                  "0",
                  "200.8181818182",
                  "362.2498635422",
                  "380.7331748762",
                  "2.839597068",
                  "366836.083333333",
                  "511356.609732762",
                  "1928102",
                  "21",
                  "8804066",
                  "677235.846153846",
                  "532416.970958985",
                  "1928102",
                  "246924",
                  "7715481",
                  "771548.1",
                  "755543.082716951",
                  "2174893",
                  "90",
                  "0",
                  "0",
                  "0",
                  "0",
                  "456",
                  "360",
                  "1.5901743581",
                  "1.2494227099",
                  "0",
                  "976",
                  "128.9230769231",
                  "279.7630315931",
                  "78267.3538461539",
                  "0",
                  "0",
                  "0",
                  "1",
                  "0",
                  "0",
                  "0",
                  "0",
                  "0",
                  "134.08",
                  "81.6428571429",
                  "200.8181818182",
                  "0",
                  "0",
                  "0",
                  "0",
                  "0",
                  "0",
                  "14",
                  "1143",
                  "11",
                  "2209",
                  "5808",
                  "233",
                  "6",
                  "32",
                  "0.0",
                  "0.0",
                  "0",
                  "0",
                  "0.0",
                  "0.0",
                  "0",
                  "0",
                  "Benign",
                  null,
                  null,
                  null,
                  null
                ]
              ],
              "shape": {
                "columns": 84,
                "rows": 5
              }
            },
            "text/html": [
              "<div>\n",
              "<style scoped>\n",
              "    .dataframe tbody tr th:only-of-type {\n",
              "        vertical-align: middle;\n",
              "    }\n",
              "\n",
              "    .dataframe tbody tr th {\n",
              "        vertical-align: top;\n",
              "    }\n",
              "\n",
              "    .dataframe thead th {\n",
              "        text-align: right;\n",
              "    }\n",
              "</style>\n",
              "<table border=\"1\" class=\"dataframe\">\n",
              "  <thead>\n",
              "    <tr style=\"text-align: right;\">\n",
              "      <th></th>\n",
              "      <th>Dst Port</th>\n",
              "      <th>Protocol</th>\n",
              "      <th>Timestamp</th>\n",
              "      <th>Flow Duration</th>\n",
              "      <th>Tot Fwd Pkts</th>\n",
              "      <th>Tot Bwd Pkts</th>\n",
              "      <th>TotLen Fwd Pkts</th>\n",
              "      <th>TotLen Bwd Pkts</th>\n",
              "      <th>Fwd Pkt Len Max</th>\n",
              "      <th>Fwd Pkt Len Min</th>\n",
              "      <th>...</th>\n",
              "      <th>Active Min</th>\n",
              "      <th>Idle Mean</th>\n",
              "      <th>Idle Std</th>\n",
              "      <th>Idle Max</th>\n",
              "      <th>Idle Min</th>\n",
              "      <th>Label</th>\n",
              "      <th>Flow ID</th>\n",
              "      <th>Src IP</th>\n",
              "      <th>Src Port</th>\n",
              "      <th>Dst IP</th>\n",
              "    </tr>\n",
              "  </thead>\n",
              "  <tbody>\n",
              "    <tr>\n",
              "      <th>0</th>\n",
              "      <td>0</td>\n",
              "      <td>0</td>\n",
              "      <td>14/02/2018 08:31:01</td>\n",
              "      <td>112641719</td>\n",
              "      <td>3</td>\n",
              "      <td>0</td>\n",
              "      <td>0</td>\n",
              "      <td>0</td>\n",
              "      <td>0</td>\n",
              "      <td>0</td>\n",
              "      <td>...</td>\n",
              "      <td>0</td>\n",
              "      <td>56320859.5</td>\n",
              "      <td>139.300036</td>\n",
              "      <td>56320958</td>\n",
              "      <td>56320761</td>\n",
              "      <td>Benign</td>\n",
              "      <td>NaN</td>\n",
              "      <td>NaN</td>\n",
              "      <td>NaN</td>\n",
              "      <td>NaN</td>\n",
              "    </tr>\n",
              "    <tr>\n",
              "      <th>1</th>\n",
              "      <td>0</td>\n",
              "      <td>0</td>\n",
              "      <td>14/02/2018 08:33:50</td>\n",
              "      <td>112641466</td>\n",
              "      <td>3</td>\n",
              "      <td>0</td>\n",
              "      <td>0</td>\n",
              "      <td>0</td>\n",
              "      <td>0</td>\n",
              "      <td>0</td>\n",
              "      <td>...</td>\n",
              "      <td>0</td>\n",
              "      <td>56320733.0</td>\n",
              "      <td>114.551299</td>\n",
              "      <td>56320814</td>\n",
              "      <td>56320652</td>\n",
              "      <td>Benign</td>\n",
              "      <td>NaN</td>\n",
              "      <td>NaN</td>\n",
              "      <td>NaN</td>\n",
              "      <td>NaN</td>\n",
              "    </tr>\n",
              "    <tr>\n",
              "      <th>2</th>\n",
              "      <td>0</td>\n",
              "      <td>0</td>\n",
              "      <td>14/02/2018 08:36:39</td>\n",
              "      <td>112638623</td>\n",
              "      <td>3</td>\n",
              "      <td>0</td>\n",
              "      <td>0</td>\n",
              "      <td>0</td>\n",
              "      <td>0</td>\n",
              "      <td>0</td>\n",
              "      <td>...</td>\n",
              "      <td>0</td>\n",
              "      <td>56319311.5</td>\n",
              "      <td>301.934596</td>\n",
              "      <td>56319525</td>\n",
              "      <td>56319098</td>\n",
              "      <td>Benign</td>\n",
              "      <td>NaN</td>\n",
              "      <td>NaN</td>\n",
              "      <td>NaN</td>\n",
              "      <td>NaN</td>\n",
              "    </tr>\n",
              "    <tr>\n",
              "      <th>3</th>\n",
              "      <td>22</td>\n",
              "      <td>6</td>\n",
              "      <td>14/02/2018 08:40:13</td>\n",
              "      <td>6453966</td>\n",
              "      <td>15</td>\n",
              "      <td>10</td>\n",
              "      <td>1239</td>\n",
              "      <td>2273</td>\n",
              "      <td>744</td>\n",
              "      <td>0</td>\n",
              "      <td>...</td>\n",
              "      <td>0</td>\n",
              "      <td>0.0</td>\n",
              "      <td>0.0</td>\n",
              "      <td>0</td>\n",
              "      <td>0</td>\n",
              "      <td>Benign</td>\n",
              "      <td>NaN</td>\n",
              "      <td>NaN</td>\n",
              "      <td>NaN</td>\n",
              "      <td>NaN</td>\n",
              "    </tr>\n",
              "    <tr>\n",
              "      <th>4</th>\n",
              "      <td>22</td>\n",
              "      <td>6</td>\n",
              "      <td>14/02/2018 08:40:23</td>\n",
              "      <td>8804066</td>\n",
              "      <td>14</td>\n",
              "      <td>11</td>\n",
              "      <td>1143</td>\n",
              "      <td>2209</td>\n",
              "      <td>744</td>\n",
              "      <td>0</td>\n",
              "      <td>...</td>\n",
              "      <td>0</td>\n",
              "      <td>0.0</td>\n",
              "      <td>0.0</td>\n",
              "      <td>0</td>\n",
              "      <td>0</td>\n",
              "      <td>Benign</td>\n",
              "      <td>NaN</td>\n",
              "      <td>NaN</td>\n",
              "      <td>NaN</td>\n",
              "      <td>NaN</td>\n",
              "    </tr>\n",
              "  </tbody>\n",
              "</table>\n",
              "<p>5 rows × 84 columns</p>\n",
              "</div>"
            ],
            "text/plain": [
              "  Dst Port Protocol            Timestamp Flow Duration Tot Fwd Pkts  \\\n",
              "0        0        0  14/02/2018 08:31:01     112641719            3   \n",
              "1        0        0  14/02/2018 08:33:50     112641466            3   \n",
              "2        0        0  14/02/2018 08:36:39     112638623            3   \n",
              "3       22        6  14/02/2018 08:40:13       6453966           15   \n",
              "4       22        6  14/02/2018 08:40:23       8804066           14   \n",
              "\n",
              "  Tot Bwd Pkts TotLen Fwd Pkts TotLen Bwd Pkts Fwd Pkt Len Max  \\\n",
              "0            0               0               0               0   \n",
              "1            0               0               0               0   \n",
              "2            0               0               0               0   \n",
              "3           10            1239            2273             744   \n",
              "4           11            1143            2209             744   \n",
              "\n",
              "  Fwd Pkt Len Min  ... Active Min   Idle Mean    Idle Std  Idle Max  Idle Min  \\\n",
              "0               0  ...          0  56320859.5  139.300036  56320958  56320761   \n",
              "1               0  ...          0  56320733.0  114.551299  56320814  56320652   \n",
              "2               0  ...          0  56319311.5  301.934596  56319525  56319098   \n",
              "3               0  ...          0         0.0         0.0         0         0   \n",
              "4               0  ...          0         0.0         0.0         0         0   \n",
              "\n",
              "    Label Flow ID Src IP Src Port Dst IP  \n",
              "0  Benign     NaN    NaN      NaN    NaN  \n",
              "1  Benign     NaN    NaN      NaN    NaN  \n",
              "2  Benign     NaN    NaN      NaN    NaN  \n",
              "3  Benign     NaN    NaN      NaN    NaN  \n",
              "4  Benign     NaN    NaN      NaN    NaN  \n",
              "\n",
              "[5 rows x 84 columns]"
            ]
          },
          "execution_count": 2,
          "metadata": {},
          "output_type": "execute_result"
        }
      ],
      "source": [
        "import os\n",
        "import pandas as pd\n",
        "import kagglehub\n",
        "\n",
        "# Download the 2018 CICIDS dataset\n",
        "path_2018 = kagglehub.dataset_download(\"solarmainframe/ids-intrusion-csv\")\n",
        "print(\"Dataset folder for 2018:\", path_2018)\n",
        "\n",
        "# List all CSV files in the 2018 dataset directory\n",
        "csv_files_2018 = [f for f in os.listdir(path_2018) if f.endswith('.csv')]\n",
        "print(f\"Found {len(csv_files_2018)} CSV files in 2018 dataset.\")\n",
        "\n",
        "# Load only first 5 CSV files for faster processing\n",
        "csv_files_2018_subset = csv_files_2018[:5]\n",
        "\n",
        "dfs_2018 = []\n",
        "for file_name in csv_files_2018_subset:\n",
        "    file_path = os.path.join(path_2018, file_name)\n",
        "    print(\"Loading:\", file_path)\n",
        "    df = pd.read_csv(file_path, low_memory=False)\n",
        "    dfs_2018.append(df)\n",
        "\n",
        "# Combine loaded CSV files into one DataFrame\n",
        "df = pd.concat(dfs_2018, ignore_index=True)\n",
        "print(\"Shape of combined 2018 data:\", df.shape)\n",
        "\n",
        "# Preview the combined data\n",
        "df.head()\n"
      ]
    },
    {
      "cell_type": "code",
      "execution_count": 3,
      "id": "d53c1e90",
      "metadata": {
        "id": "d53c1e90"
      },
      "outputs": [
        {
          "name": "stdout",
          "output_type": "stream",
          "text": [
            "<class 'pandas.core.frame.DataFrame'>\n",
            "RangeIndex: 11425598 entries, 0 to 11425597\n",
            "Data columns (total 84 columns):\n",
            " #   Column             Dtype  \n",
            "---  ------             -----  \n",
            " 0   Dst Port           object \n",
            " 1   Protocol           object \n",
            " 2   Timestamp          object \n",
            " 3   Flow Duration      object \n",
            " 4   Tot Fwd Pkts       object \n",
            " 5   Tot Bwd Pkts       object \n",
            " 6   TotLen Fwd Pkts    object \n",
            " 7   TotLen Bwd Pkts    object \n",
            " 8   Fwd Pkt Len Max    object \n",
            " 9   Fwd Pkt Len Min    object \n",
            " 10  Fwd Pkt Len Mean   object \n",
            " 11  Fwd Pkt Len Std    object \n",
            " 12  Bwd Pkt Len Max    object \n",
            " 13  Bwd Pkt Len Min    object \n",
            " 14  Bwd Pkt Len Mean   object \n",
            " 15  Bwd Pkt Len Std    object \n",
            " 16  Flow Byts/s        object \n",
            " 17  Flow Pkts/s        object \n",
            " 18  Flow IAT Mean      object \n",
            " 19  Flow IAT Std       object \n",
            " 20  Flow IAT Max       object \n",
            " 21  Flow IAT Min       object \n",
            " 22  Fwd IAT Tot        object \n",
            " 23  Fwd IAT Mean       object \n",
            " 24  Fwd IAT Std        object \n",
            " 25  Fwd IAT Max        object \n",
            " 26  Fwd IAT Min        object \n",
            " 27  Bwd IAT Tot        object \n",
            " 28  Bwd IAT Mean       object \n",
            " 29  Bwd IAT Std        object \n",
            " 30  Bwd IAT Max        object \n",
            " 31  Bwd IAT Min        object \n",
            " 32  Fwd PSH Flags      object \n",
            " 33  Bwd PSH Flags      object \n",
            " 34  Fwd URG Flags      object \n",
            " 35  Bwd URG Flags      object \n",
            " 36  Fwd Header Len     object \n",
            " 37  Bwd Header Len     object \n",
            " 38  Fwd Pkts/s         object \n",
            " 39  Bwd Pkts/s         object \n",
            " 40  Pkt Len Min        object \n",
            " 41  Pkt Len Max        object \n",
            " 42  Pkt Len Mean       object \n",
            " 43  Pkt Len Std        object \n",
            " 44  Pkt Len Var        object \n",
            " 45  FIN Flag Cnt       object \n",
            " 46  SYN Flag Cnt       object \n",
            " 47  RST Flag Cnt       object \n",
            " 48  PSH Flag Cnt       object \n",
            " 49  ACK Flag Cnt       object \n",
            " 50  URG Flag Cnt       object \n",
            " 51  CWE Flag Count     object \n",
            " 52  ECE Flag Cnt       object \n",
            " 53  Down/Up Ratio      object \n",
            " 54  Pkt Size Avg       object \n",
            " 55  Fwd Seg Size Avg   object \n",
            " 56  Bwd Seg Size Avg   object \n",
            " 57  Fwd Byts/b Avg     object \n",
            " 58  Fwd Pkts/b Avg     object \n",
            " 59  Fwd Blk Rate Avg   object \n",
            " 60  Bwd Byts/b Avg     object \n",
            " 61  Bwd Pkts/b Avg     object \n",
            " 62  Bwd Blk Rate Avg   object \n",
            " 63  Subflow Fwd Pkts   object \n",
            " 64  Subflow Fwd Byts   object \n",
            " 65  Subflow Bwd Pkts   object \n",
            " 66  Subflow Bwd Byts   object \n",
            " 67  Init Fwd Win Byts  object \n",
            " 68  Init Bwd Win Byts  object \n",
            " 69  Fwd Act Data Pkts  object \n",
            " 70  Fwd Seg Size Min   object \n",
            " 71  Active Mean        object \n",
            " 72  Active Std         object \n",
            " 73  Active Max         object \n",
            " 74  Active Min         object \n",
            " 75  Idle Mean          object \n",
            " 76  Idle Std           object \n",
            " 77  Idle Max           object \n",
            " 78  Idle Min           object \n",
            " 79  Label              object \n",
            " 80  Flow ID            object \n",
            " 81  Src IP             object \n",
            " 82  Src Port           float64\n",
            " 83  Dst IP             object \n",
            "dtypes: float64(1), object(83)\n",
            "memory usage: 7.2+ GB\n"
          ]
        }
      ],
      "source": [
        "df.info()"
      ]
    },
    {
      "cell_type": "code",
      "execution_count": 4,
      "id": "55488499",
      "metadata": {
        "id": "55488499"
      },
      "outputs": [
        {
          "data": {
            "text/plain": [
              "Index(['Dst Port', 'Protocol', 'Timestamp', 'Flow Duration', 'Tot Fwd Pkts',\n",
              "       'Tot Bwd Pkts', 'TotLen Fwd Pkts', 'TotLen Bwd Pkts', 'Fwd Pkt Len Max',\n",
              "       'Fwd Pkt Len Min', 'Fwd Pkt Len Mean', 'Fwd Pkt Len Std',\n",
              "       'Bwd Pkt Len Max', 'Bwd Pkt Len Min', 'Bwd Pkt Len Mean',\n",
              "       'Bwd Pkt Len Std', 'Flow Byts/s', 'Flow Pkts/s', 'Flow IAT Mean',\n",
              "       'Flow IAT Std', 'Flow IAT Max', 'Flow IAT Min', 'Fwd IAT Tot',\n",
              "       'Fwd IAT Mean', 'Fwd IAT Std', 'Fwd IAT Max', 'Fwd IAT Min',\n",
              "       'Bwd IAT Tot', 'Bwd IAT Mean', 'Bwd IAT Std', 'Bwd IAT Max',\n",
              "       'Bwd IAT Min', 'Fwd PSH Flags', 'Bwd PSH Flags', 'Fwd URG Flags',\n",
              "       'Bwd URG Flags', 'Fwd Header Len', 'Bwd Header Len', 'Fwd Pkts/s',\n",
              "       'Bwd Pkts/s', 'Pkt Len Min', 'Pkt Len Max', 'Pkt Len Mean',\n",
              "       'Pkt Len Std', 'Pkt Len Var', 'FIN Flag Cnt', 'SYN Flag Cnt',\n",
              "       'RST Flag Cnt', 'PSH Flag Cnt', 'ACK Flag Cnt', 'URG Flag Cnt',\n",
              "       'CWE Flag Count', 'ECE Flag Cnt', 'Down/Up Ratio', 'Pkt Size Avg',\n",
              "       'Fwd Seg Size Avg', 'Bwd Seg Size Avg', 'Fwd Byts/b Avg',\n",
              "       'Fwd Pkts/b Avg', 'Fwd Blk Rate Avg', 'Bwd Byts/b Avg',\n",
              "       'Bwd Pkts/b Avg', 'Bwd Blk Rate Avg', 'Subflow Fwd Pkts',\n",
              "       'Subflow Fwd Byts', 'Subflow Bwd Pkts', 'Subflow Bwd Byts',\n",
              "       'Init Fwd Win Byts', 'Init Bwd Win Byts', 'Fwd Act Data Pkts',\n",
              "       'Fwd Seg Size Min', 'Active Mean', 'Active Std', 'Active Max',\n",
              "       'Active Min', 'Idle Mean', 'Idle Std', 'Idle Max', 'Idle Min', 'Label',\n",
              "       'Flow ID', 'Src IP', 'Src Port', 'Dst IP'],\n",
              "      dtype='object')"
            ]
          },
          "execution_count": 4,
          "metadata": {},
          "output_type": "execute_result"
        }
      ],
      "source": [
        "df.columns"
      ]
    },
    {
      "cell_type": "code",
      "execution_count": 5,
      "id": "e2043448",
      "metadata": {
        "id": "e2043448"
      },
      "outputs": [
        {
          "data": {
            "text/plain": [
              "array(['Benign', 'FTP-BruteForce', 'SSH-Bruteforce',\n",
              "       'DoS attacks-GoldenEye', 'DoS attacks-Slowloris',\n",
              "       'DDoS attacks-LOIC-HTTP', 'DDOS attack-LOIC-UDP',\n",
              "       'DDOS attack-HOIC', 'Label', 'Infilteration'], dtype=object)"
            ]
          },
          "execution_count": 5,
          "metadata": {},
          "output_type": "execute_result"
        }
      ],
      "source": [
        "df['Label'].unique()"
      ]
    },
    {
      "cell_type": "code",
      "execution_count": 6,
      "id": "91ea6b38",
      "metadata": {
        "id": "91ea6b38"
      },
      "outputs": [
        {
          "data": {
            "application/vnd.microsoft.datawrangler.viewer.v0+json": {
              "columns": [
                {
                  "name": "Label",
                  "rawType": "object",
                  "type": "string"
                },
                {
                  "name": "count",
                  "rawType": "int64",
                  "type": "integer"
                }
              ],
              "ref": "1772099c-85ac-4de0-8623-0a488df618c7",
              "rows": [
                [
                  "Benign",
                  "9635130"
                ],
                [
                  "DDOS attack-HOIC",
                  "686012"
                ],
                [
                  "DDoS attacks-LOIC-HTTP",
                  "576191"
                ],
                [
                  "FTP-BruteForce",
                  "193360"
                ],
                [
                  "SSH-Bruteforce",
                  "187589"
                ],
                [
                  "Infilteration",
                  "93063"
                ],
                [
                  "DoS attacks-GoldenEye",
                  "41508"
                ],
                [
                  "DoS attacks-Slowloris",
                  "10990"
                ],
                [
                  "DDOS attack-LOIC-UDP",
                  "1730"
                ],
                [
                  "Label",
                  "25"
                ]
              ],
              "shape": {
                "columns": 1,
                "rows": 10
              }
            },
            "text/plain": [
              "Label\n",
              "Benign                    9635130\n",
              "DDOS attack-HOIC           686012\n",
              "DDoS attacks-LOIC-HTTP     576191\n",
              "FTP-BruteForce             193360\n",
              "SSH-Bruteforce             187589\n",
              "Infilteration               93063\n",
              "DoS attacks-GoldenEye       41508\n",
              "DoS attacks-Slowloris       10990\n",
              "DDOS attack-LOIC-UDP         1730\n",
              "Label                          25\n",
              "Name: count, dtype: int64"
            ]
          },
          "execution_count": 6,
          "metadata": {},
          "output_type": "execute_result"
        }
      ],
      "source": [
        "df['Label'].value_counts()"
      ]
    },
    {
      "cell_type": "code",
      "execution_count": 7,
      "id": "d076778d",
      "metadata": {
        "id": "d076778d"
      },
      "outputs": [
        {
          "data": {
            "application/vnd.microsoft.datawrangler.viewer.v0+json": {
              "columns": [
                {
                  "name": "index",
                  "rawType": "int64",
                  "type": "integer"
                },
                {
                  "name": "Label",
                  "rawType": "object",
                  "type": "string"
                }
              ],
              "ref": "74c8bbef-a838-442c-a948-3db4a8d3a6b8",
              "rows": [
                [
                  "0",
                  "Benign"
                ],
                [
                  "1",
                  "Benign"
                ],
                [
                  "2",
                  "Benign"
                ],
                [
                  "3",
                  "Benign"
                ],
                [
                  "4",
                  "Benign"
                ],
                [
                  "5",
                  "Benign"
                ],
                [
                  "6",
                  "Benign"
                ],
                [
                  "7",
                  "Benign"
                ],
                [
                  "8",
                  "Benign"
                ],
                [
                  "9",
                  "Benign"
                ],
                [
                  "10",
                  "Benign"
                ],
                [
                  "11",
                  "Benign"
                ],
                [
                  "12",
                  "Benign"
                ],
                [
                  "13",
                  "Benign"
                ],
                [
                  "14",
                  "Benign"
                ],
                [
                  "15",
                  "Benign"
                ],
                [
                  "16",
                  "Benign"
                ],
                [
                  "17",
                  "Benign"
                ],
                [
                  "18",
                  "Benign"
                ],
                [
                  "19",
                  "Benign"
                ],
                [
                  "20",
                  "Benign"
                ],
                [
                  "21",
                  "Benign"
                ],
                [
                  "22",
                  "Benign"
                ],
                [
                  "23",
                  "Benign"
                ],
                [
                  "24",
                  "Benign"
                ],
                [
                  "25",
                  "Benign"
                ],
                [
                  "26",
                  "Benign"
                ],
                [
                  "27",
                  "Benign"
                ],
                [
                  "28",
                  "Benign"
                ],
                [
                  "29",
                  "Benign"
                ],
                [
                  "30",
                  "Benign"
                ],
                [
                  "31",
                  "Benign"
                ],
                [
                  "32",
                  "Benign"
                ],
                [
                  "33",
                  "Benign"
                ],
                [
                  "34",
                  "Benign"
                ],
                [
                  "35",
                  "Benign"
                ],
                [
                  "36",
                  "Benign"
                ],
                [
                  "37",
                  "Benign"
                ],
                [
                  "38",
                  "Benign"
                ],
                [
                  "39",
                  "Benign"
                ],
                [
                  "40",
                  "Benign"
                ],
                [
                  "41",
                  "Benign"
                ],
                [
                  "42",
                  "Benign"
                ],
                [
                  "43",
                  "Benign"
                ],
                [
                  "44",
                  "Benign"
                ],
                [
                  "45",
                  "Benign"
                ],
                [
                  "46",
                  "Benign"
                ],
                [
                  "47",
                  "Benign"
                ],
                [
                  "48",
                  "Benign"
                ],
                [
                  "49",
                  "Benign"
                ]
              ],
              "shape": {
                "columns": 1,
                "rows": 11425598
              }
            },
            "text/html": [
              "<div>\n",
              "<style scoped>\n",
              "    .dataframe tbody tr th:only-of-type {\n",
              "        vertical-align: middle;\n",
              "    }\n",
              "\n",
              "    .dataframe tbody tr th {\n",
              "        vertical-align: top;\n",
              "    }\n",
              "\n",
              "    .dataframe thead th {\n",
              "        text-align: right;\n",
              "    }\n",
              "</style>\n",
              "<table border=\"1\" class=\"dataframe\">\n",
              "  <thead>\n",
              "    <tr style=\"text-align: right;\">\n",
              "      <th></th>\n",
              "      <th>Label</th>\n",
              "    </tr>\n",
              "  </thead>\n",
              "  <tbody>\n",
              "    <tr>\n",
              "      <th>0</th>\n",
              "      <td>Benign</td>\n",
              "    </tr>\n",
              "    <tr>\n",
              "      <th>1</th>\n",
              "      <td>Benign</td>\n",
              "    </tr>\n",
              "    <tr>\n",
              "      <th>2</th>\n",
              "      <td>Benign</td>\n",
              "    </tr>\n",
              "    <tr>\n",
              "      <th>3</th>\n",
              "      <td>Benign</td>\n",
              "    </tr>\n",
              "    <tr>\n",
              "      <th>4</th>\n",
              "      <td>Benign</td>\n",
              "    </tr>\n",
              "    <tr>\n",
              "      <th>...</th>\n",
              "      <td>...</td>\n",
              "    </tr>\n",
              "    <tr>\n",
              "      <th>11425593</th>\n",
              "      <td>Label</td>\n",
              "    </tr>\n",
              "    <tr>\n",
              "      <th>11425594</th>\n",
              "      <td>Label</td>\n",
              "    </tr>\n",
              "    <tr>\n",
              "      <th>11425595</th>\n",
              "      <td>Label</td>\n",
              "    </tr>\n",
              "    <tr>\n",
              "      <th>11425596</th>\n",
              "      <td>Label</td>\n",
              "    </tr>\n",
              "    <tr>\n",
              "      <th>11425597</th>\n",
              "      <td>Label</td>\n",
              "    </tr>\n",
              "  </tbody>\n",
              "</table>\n",
              "<p>11425598 rows × 1 columns</p>\n",
              "</div>"
            ],
            "text/plain": [
              "           Label\n",
              "0         Benign\n",
              "1         Benign\n",
              "2         Benign\n",
              "3         Benign\n",
              "4         Benign\n",
              "...          ...\n",
              "11425593   Label\n",
              "11425594   Label\n",
              "11425595   Label\n",
              "11425596   Label\n",
              "11425597   Label\n",
              "\n",
              "[11425598 rows x 1 columns]"
            ]
          },
          "execution_count": 7,
          "metadata": {},
          "output_type": "execute_result"
        }
      ],
      "source": [
        "Label = pd.DataFrame(df.Label)\n",
        "Label"
      ]
    },
    {
      "cell_type": "code",
      "execution_count": 8,
      "id": "1b276ddb",
      "metadata": {
        "id": "1b276ddb"
      },
      "outputs": [],
      "source": [
        "from sklearn.preprocessing import MinMaxScaler\n",
        "\n",
        "std_scaler = MinMaxScaler()\n",
        "def standardization(df,col):\n",
        "    for i in col:\n",
        "        arr = df[i]\n",
        "        arr = np.array(arr)\n",
        "        df[i] = std_scaler.fit_transform(arr.reshape(len(arr),1))\n",
        "    return df\n",
        "\n",
        "numeric_col = df.select_dtypes(include='number').columns\n",
        "df = standardization(df,numeric_col)"
      ]
    },
    {
      "cell_type": "code",
      "execution_count": 10,
      "id": "85f0a70d",
      "metadata": {
        "id": "85f0a70d"
      },
      "outputs": [],
      "source": [
        "X = df.drop('Label', axis=1)\n",
        "y = df['Label']"
      ]
    },
    {
      "cell_type": "code",
      "execution_count": 11,
      "id": "32536a14",
      "metadata": {
        "id": "32536a14"
      },
      "outputs": [
        {
          "data": {
            "application/vnd.microsoft.datawrangler.viewer.v0+json": {
              "columns": [
                {
                  "name": "index",
                  "rawType": "int64",
                  "type": "integer"
                },
                {
                  "name": "0",
                  "rawType": "float64",
                  "type": "float"
                },
                {
                  "name": "1",
                  "rawType": "float64",
                  "type": "float"
                },
                {
                  "name": "2",
                  "rawType": "float64",
                  "type": "float"
                },
                {
                  "name": "3",
                  "rawType": "float64",
                  "type": "float"
                },
                {
                  "name": "4",
                  "rawType": "float64",
                  "type": "float"
                },
                {
                  "name": "5",
                  "rawType": "float64",
                  "type": "float"
                },
                {
                  "name": "6",
                  "rawType": "float64",
                  "type": "float"
                },
                {
                  "name": "7",
                  "rawType": "float64",
                  "type": "float"
                },
                {
                  "name": "8",
                  "rawType": "float64",
                  "type": "float"
                },
                {
                  "name": "9",
                  "rawType": "float64",
                  "type": "float"
                }
              ],
              "ref": "86244e9b-6ee1-43fb-b2a4-5d4d0fc78114",
              "rows": [
                [
                  "0",
                  "1.0",
                  "0.0",
                  "0.0",
                  "0.0",
                  "0.0",
                  "0.0",
                  "0.0",
                  "0.0",
                  "0.0",
                  "0.0"
                ],
                [
                  "1",
                  "1.0",
                  "0.0",
                  "0.0",
                  "0.0",
                  "0.0",
                  "0.0",
                  "0.0",
                  "0.0",
                  "0.0",
                  "0.0"
                ],
                [
                  "2",
                  "1.0",
                  "0.0",
                  "0.0",
                  "0.0",
                  "0.0",
                  "0.0",
                  "0.0",
                  "0.0",
                  "0.0",
                  "0.0"
                ],
                [
                  "3",
                  "1.0",
                  "0.0",
                  "0.0",
                  "0.0",
                  "0.0",
                  "0.0",
                  "0.0",
                  "0.0",
                  "0.0",
                  "0.0"
                ],
                [
                  "4",
                  "1.0",
                  "0.0",
                  "0.0",
                  "0.0",
                  "0.0",
                  "0.0",
                  "0.0",
                  "0.0",
                  "0.0",
                  "0.0"
                ],
                [
                  "5",
                  "1.0",
                  "0.0",
                  "0.0",
                  "0.0",
                  "0.0",
                  "0.0",
                  "0.0",
                  "0.0",
                  "0.0",
                  "0.0"
                ],
                [
                  "6",
                  "1.0",
                  "0.0",
                  "0.0",
                  "0.0",
                  "0.0",
                  "0.0",
                  "0.0",
                  "0.0",
                  "0.0",
                  "0.0"
                ],
                [
                  "7",
                  "1.0",
                  "0.0",
                  "0.0",
                  "0.0",
                  "0.0",
                  "0.0",
                  "0.0",
                  "0.0",
                  "0.0",
                  "0.0"
                ],
                [
                  "8",
                  "1.0",
                  "0.0",
                  "0.0",
                  "0.0",
                  "0.0",
                  "0.0",
                  "0.0",
                  "0.0",
                  "0.0",
                  "0.0"
                ],
                [
                  "9",
                  "1.0",
                  "0.0",
                  "0.0",
                  "0.0",
                  "0.0",
                  "0.0",
                  "0.0",
                  "0.0",
                  "0.0",
                  "0.0"
                ],
                [
                  "10",
                  "1.0",
                  "0.0",
                  "0.0",
                  "0.0",
                  "0.0",
                  "0.0",
                  "0.0",
                  "0.0",
                  "0.0",
                  "0.0"
                ],
                [
                  "11",
                  "1.0",
                  "0.0",
                  "0.0",
                  "0.0",
                  "0.0",
                  "0.0",
                  "0.0",
                  "0.0",
                  "0.0",
                  "0.0"
                ],
                [
                  "12",
                  "1.0",
                  "0.0",
                  "0.0",
                  "0.0",
                  "0.0",
                  "0.0",
                  "0.0",
                  "0.0",
                  "0.0",
                  "0.0"
                ],
                [
                  "13",
                  "1.0",
                  "0.0",
                  "0.0",
                  "0.0",
                  "0.0",
                  "0.0",
                  "0.0",
                  "0.0",
                  "0.0",
                  "0.0"
                ],
                [
                  "14",
                  "1.0",
                  "0.0",
                  "0.0",
                  "0.0",
                  "0.0",
                  "0.0",
                  "0.0",
                  "0.0",
                  "0.0",
                  "0.0"
                ],
                [
                  "15",
                  "1.0",
                  "0.0",
                  "0.0",
                  "0.0",
                  "0.0",
                  "0.0",
                  "0.0",
                  "0.0",
                  "0.0",
                  "0.0"
                ],
                [
                  "16",
                  "1.0",
                  "0.0",
                  "0.0",
                  "0.0",
                  "0.0",
                  "0.0",
                  "0.0",
                  "0.0",
                  "0.0",
                  "0.0"
                ],
                [
                  "17",
                  "1.0",
                  "0.0",
                  "0.0",
                  "0.0",
                  "0.0",
                  "0.0",
                  "0.0",
                  "0.0",
                  "0.0",
                  "0.0"
                ],
                [
                  "18",
                  "1.0",
                  "0.0",
                  "0.0",
                  "0.0",
                  "0.0",
                  "0.0",
                  "0.0",
                  "0.0",
                  "0.0",
                  "0.0"
                ],
                [
                  "19",
                  "1.0",
                  "0.0",
                  "0.0",
                  "0.0",
                  "0.0",
                  "0.0",
                  "0.0",
                  "0.0",
                  "0.0",
                  "0.0"
                ],
                [
                  "20",
                  "1.0",
                  "0.0",
                  "0.0",
                  "0.0",
                  "0.0",
                  "0.0",
                  "0.0",
                  "0.0",
                  "0.0",
                  "0.0"
                ],
                [
                  "21",
                  "1.0",
                  "0.0",
                  "0.0",
                  "0.0",
                  "0.0",
                  "0.0",
                  "0.0",
                  "0.0",
                  "0.0",
                  "0.0"
                ],
                [
                  "22",
                  "1.0",
                  "0.0",
                  "0.0",
                  "0.0",
                  "0.0",
                  "0.0",
                  "0.0",
                  "0.0",
                  "0.0",
                  "0.0"
                ],
                [
                  "23",
                  "1.0",
                  "0.0",
                  "0.0",
                  "0.0",
                  "0.0",
                  "0.0",
                  "0.0",
                  "0.0",
                  "0.0",
                  "0.0"
                ],
                [
                  "24",
                  "1.0",
                  "0.0",
                  "0.0",
                  "0.0",
                  "0.0",
                  "0.0",
                  "0.0",
                  "0.0",
                  "0.0",
                  "0.0"
                ],
                [
                  "25",
                  "1.0",
                  "0.0",
                  "0.0",
                  "0.0",
                  "0.0",
                  "0.0",
                  "0.0",
                  "0.0",
                  "0.0",
                  "0.0"
                ],
                [
                  "26",
                  "1.0",
                  "0.0",
                  "0.0",
                  "0.0",
                  "0.0",
                  "0.0",
                  "0.0",
                  "0.0",
                  "0.0",
                  "0.0"
                ],
                [
                  "27",
                  "1.0",
                  "0.0",
                  "0.0",
                  "0.0",
                  "0.0",
                  "0.0",
                  "0.0",
                  "0.0",
                  "0.0",
                  "0.0"
                ],
                [
                  "28",
                  "1.0",
                  "0.0",
                  "0.0",
                  "0.0",
                  "0.0",
                  "0.0",
                  "0.0",
                  "0.0",
                  "0.0",
                  "0.0"
                ],
                [
                  "29",
                  "1.0",
                  "0.0",
                  "0.0",
                  "0.0",
                  "0.0",
                  "0.0",
                  "0.0",
                  "0.0",
                  "0.0",
                  "0.0"
                ],
                [
                  "30",
                  "1.0",
                  "0.0",
                  "0.0",
                  "0.0",
                  "0.0",
                  "0.0",
                  "0.0",
                  "0.0",
                  "0.0",
                  "0.0"
                ],
                [
                  "31",
                  "1.0",
                  "0.0",
                  "0.0",
                  "0.0",
                  "0.0",
                  "0.0",
                  "0.0",
                  "0.0",
                  "0.0",
                  "0.0"
                ],
                [
                  "32",
                  "1.0",
                  "0.0",
                  "0.0",
                  "0.0",
                  "0.0",
                  "0.0",
                  "0.0",
                  "0.0",
                  "0.0",
                  "0.0"
                ],
                [
                  "33",
                  "1.0",
                  "0.0",
                  "0.0",
                  "0.0",
                  "0.0",
                  "0.0",
                  "0.0",
                  "0.0",
                  "0.0",
                  "0.0"
                ],
                [
                  "34",
                  "1.0",
                  "0.0",
                  "0.0",
                  "0.0",
                  "0.0",
                  "0.0",
                  "0.0",
                  "0.0",
                  "0.0",
                  "0.0"
                ],
                [
                  "35",
                  "1.0",
                  "0.0",
                  "0.0",
                  "0.0",
                  "0.0",
                  "0.0",
                  "0.0",
                  "0.0",
                  "0.0",
                  "0.0"
                ],
                [
                  "36",
                  "1.0",
                  "0.0",
                  "0.0",
                  "0.0",
                  "0.0",
                  "0.0",
                  "0.0",
                  "0.0",
                  "0.0",
                  "0.0"
                ],
                [
                  "37",
                  "1.0",
                  "0.0",
                  "0.0",
                  "0.0",
                  "0.0",
                  "0.0",
                  "0.0",
                  "0.0",
                  "0.0",
                  "0.0"
                ],
                [
                  "38",
                  "1.0",
                  "0.0",
                  "0.0",
                  "0.0",
                  "0.0",
                  "0.0",
                  "0.0",
                  "0.0",
                  "0.0",
                  "0.0"
                ],
                [
                  "39",
                  "1.0",
                  "0.0",
                  "0.0",
                  "0.0",
                  "0.0",
                  "0.0",
                  "0.0",
                  "0.0",
                  "0.0",
                  "0.0"
                ],
                [
                  "40",
                  "1.0",
                  "0.0",
                  "0.0",
                  "0.0",
                  "0.0",
                  "0.0",
                  "0.0",
                  "0.0",
                  "0.0",
                  "0.0"
                ],
                [
                  "41",
                  "1.0",
                  "0.0",
                  "0.0",
                  "0.0",
                  "0.0",
                  "0.0",
                  "0.0",
                  "0.0",
                  "0.0",
                  "0.0"
                ],
                [
                  "42",
                  "1.0",
                  "0.0",
                  "0.0",
                  "0.0",
                  "0.0",
                  "0.0",
                  "0.0",
                  "0.0",
                  "0.0",
                  "0.0"
                ],
                [
                  "43",
                  "1.0",
                  "0.0",
                  "0.0",
                  "0.0",
                  "0.0",
                  "0.0",
                  "0.0",
                  "0.0",
                  "0.0",
                  "0.0"
                ],
                [
                  "44",
                  "1.0",
                  "0.0",
                  "0.0",
                  "0.0",
                  "0.0",
                  "0.0",
                  "0.0",
                  "0.0",
                  "0.0",
                  "0.0"
                ],
                [
                  "45",
                  "1.0",
                  "0.0",
                  "0.0",
                  "0.0",
                  "0.0",
                  "0.0",
                  "0.0",
                  "0.0",
                  "0.0",
                  "0.0"
                ],
                [
                  "46",
                  "1.0",
                  "0.0",
                  "0.0",
                  "0.0",
                  "0.0",
                  "0.0",
                  "0.0",
                  "0.0",
                  "0.0",
                  "0.0"
                ],
                [
                  "47",
                  "1.0",
                  "0.0",
                  "0.0",
                  "0.0",
                  "0.0",
                  "0.0",
                  "0.0",
                  "0.0",
                  "0.0",
                  "0.0"
                ],
                [
                  "48",
                  "1.0",
                  "0.0",
                  "0.0",
                  "0.0",
                  "0.0",
                  "0.0",
                  "0.0",
                  "0.0",
                  "0.0",
                  "0.0"
                ],
                [
                  "49",
                  "1.0",
                  "0.0",
                  "0.0",
                  "0.0",
                  "0.0",
                  "0.0",
                  "0.0",
                  "0.0",
                  "0.0",
                  "0.0"
                ]
              ],
              "shape": {
                "columns": 10,
                "rows": 11425598
              }
            },
            "text/html": [
              "<div>\n",
              "<style scoped>\n",
              "    .dataframe tbody tr th:only-of-type {\n",
              "        vertical-align: middle;\n",
              "    }\n",
              "\n",
              "    .dataframe tbody tr th {\n",
              "        vertical-align: top;\n",
              "    }\n",
              "\n",
              "    .dataframe thead th {\n",
              "        text-align: right;\n",
              "    }\n",
              "</style>\n",
              "<table border=\"1\" class=\"dataframe\">\n",
              "  <thead>\n",
              "    <tr style=\"text-align: right;\">\n",
              "      <th></th>\n",
              "      <th>0</th>\n",
              "      <th>1</th>\n",
              "      <th>2</th>\n",
              "      <th>3</th>\n",
              "      <th>4</th>\n",
              "      <th>5</th>\n",
              "      <th>6</th>\n",
              "      <th>7</th>\n",
              "      <th>8</th>\n",
              "      <th>9</th>\n",
              "    </tr>\n",
              "  </thead>\n",
              "  <tbody>\n",
              "    <tr>\n",
              "      <th>0</th>\n",
              "      <td>1.0</td>\n",
              "      <td>0.0</td>\n",
              "      <td>0.0</td>\n",
              "      <td>0.0</td>\n",
              "      <td>0.0</td>\n",
              "      <td>0.0</td>\n",
              "      <td>0.0</td>\n",
              "      <td>0.0</td>\n",
              "      <td>0.0</td>\n",
              "      <td>0.0</td>\n",
              "    </tr>\n",
              "    <tr>\n",
              "      <th>1</th>\n",
              "      <td>1.0</td>\n",
              "      <td>0.0</td>\n",
              "      <td>0.0</td>\n",
              "      <td>0.0</td>\n",
              "      <td>0.0</td>\n",
              "      <td>0.0</td>\n",
              "      <td>0.0</td>\n",
              "      <td>0.0</td>\n",
              "      <td>0.0</td>\n",
              "      <td>0.0</td>\n",
              "    </tr>\n",
              "    <tr>\n",
              "      <th>2</th>\n",
              "      <td>1.0</td>\n",
              "      <td>0.0</td>\n",
              "      <td>0.0</td>\n",
              "      <td>0.0</td>\n",
              "      <td>0.0</td>\n",
              "      <td>0.0</td>\n",
              "      <td>0.0</td>\n",
              "      <td>0.0</td>\n",
              "      <td>0.0</td>\n",
              "      <td>0.0</td>\n",
              "    </tr>\n",
              "    <tr>\n",
              "      <th>3</th>\n",
              "      <td>1.0</td>\n",
              "      <td>0.0</td>\n",
              "      <td>0.0</td>\n",
              "      <td>0.0</td>\n",
              "      <td>0.0</td>\n",
              "      <td>0.0</td>\n",
              "      <td>0.0</td>\n",
              "      <td>0.0</td>\n",
              "      <td>0.0</td>\n",
              "      <td>0.0</td>\n",
              "    </tr>\n",
              "    <tr>\n",
              "      <th>4</th>\n",
              "      <td>1.0</td>\n",
              "      <td>0.0</td>\n",
              "      <td>0.0</td>\n",
              "      <td>0.0</td>\n",
              "      <td>0.0</td>\n",
              "      <td>0.0</td>\n",
              "      <td>0.0</td>\n",
              "      <td>0.0</td>\n",
              "      <td>0.0</td>\n",
              "      <td>0.0</td>\n",
              "    </tr>\n",
              "    <tr>\n",
              "      <th>...</th>\n",
              "      <td>...</td>\n",
              "      <td>...</td>\n",
              "      <td>...</td>\n",
              "      <td>...</td>\n",
              "      <td>...</td>\n",
              "      <td>...</td>\n",
              "      <td>...</td>\n",
              "      <td>...</td>\n",
              "      <td>...</td>\n",
              "      <td>...</td>\n",
              "    </tr>\n",
              "    <tr>\n",
              "      <th>11425593</th>\n",
              "      <td>0.0</td>\n",
              "      <td>0.0</td>\n",
              "      <td>0.0</td>\n",
              "      <td>0.0</td>\n",
              "      <td>0.0</td>\n",
              "      <td>0.0</td>\n",
              "      <td>0.0</td>\n",
              "      <td>0.0</td>\n",
              "      <td>1.0</td>\n",
              "      <td>0.0</td>\n",
              "    </tr>\n",
              "    <tr>\n",
              "      <th>11425594</th>\n",
              "      <td>0.0</td>\n",
              "      <td>0.0</td>\n",
              "      <td>0.0</td>\n",
              "      <td>0.0</td>\n",
              "      <td>0.0</td>\n",
              "      <td>0.0</td>\n",
              "      <td>0.0</td>\n",
              "      <td>0.0</td>\n",
              "      <td>1.0</td>\n",
              "      <td>0.0</td>\n",
              "    </tr>\n",
              "    <tr>\n",
              "      <th>11425595</th>\n",
              "      <td>0.0</td>\n",
              "      <td>0.0</td>\n",
              "      <td>0.0</td>\n",
              "      <td>0.0</td>\n",
              "      <td>0.0</td>\n",
              "      <td>0.0</td>\n",
              "      <td>0.0</td>\n",
              "      <td>0.0</td>\n",
              "      <td>1.0</td>\n",
              "      <td>0.0</td>\n",
              "    </tr>\n",
              "    <tr>\n",
              "      <th>11425596</th>\n",
              "      <td>0.0</td>\n",
              "      <td>0.0</td>\n",
              "      <td>0.0</td>\n",
              "      <td>0.0</td>\n",
              "      <td>0.0</td>\n",
              "      <td>0.0</td>\n",
              "      <td>0.0</td>\n",
              "      <td>0.0</td>\n",
              "      <td>1.0</td>\n",
              "      <td>0.0</td>\n",
              "    </tr>\n",
              "    <tr>\n",
              "      <th>11425597</th>\n",
              "      <td>0.0</td>\n",
              "      <td>0.0</td>\n",
              "      <td>0.0</td>\n",
              "      <td>0.0</td>\n",
              "      <td>0.0</td>\n",
              "      <td>0.0</td>\n",
              "      <td>0.0</td>\n",
              "      <td>0.0</td>\n",
              "      <td>1.0</td>\n",
              "      <td>0.0</td>\n",
              "    </tr>\n",
              "  </tbody>\n",
              "</table>\n",
              "<p>11425598 rows × 10 columns</p>\n",
              "</div>"
            ],
            "text/plain": [
              "            0    1    2    3    4    5    6    7    8    9\n",
              "0         1.0  0.0  0.0  0.0  0.0  0.0  0.0  0.0  0.0  0.0\n",
              "1         1.0  0.0  0.0  0.0  0.0  0.0  0.0  0.0  0.0  0.0\n",
              "2         1.0  0.0  0.0  0.0  0.0  0.0  0.0  0.0  0.0  0.0\n",
              "3         1.0  0.0  0.0  0.0  0.0  0.0  0.0  0.0  0.0  0.0\n",
              "4         1.0  0.0  0.0  0.0  0.0  0.0  0.0  0.0  0.0  0.0\n",
              "...       ...  ...  ...  ...  ...  ...  ...  ...  ...  ...\n",
              "11425593  0.0  0.0  0.0  0.0  0.0  0.0  0.0  0.0  1.0  0.0\n",
              "11425594  0.0  0.0  0.0  0.0  0.0  0.0  0.0  0.0  1.0  0.0\n",
              "11425595  0.0  0.0  0.0  0.0  0.0  0.0  0.0  0.0  1.0  0.0\n",
              "11425596  0.0  0.0  0.0  0.0  0.0  0.0  0.0  0.0  1.0  0.0\n",
              "11425597  0.0  0.0  0.0  0.0  0.0  0.0  0.0  0.0  1.0  0.0\n",
              "\n",
              "[11425598 rows x 10 columns]"
            ]
          },
          "execution_count": 11,
          "metadata": {},
          "output_type": "execute_result"
        }
      ],
      "source": [
        "encoder = OneHotEncoder(sparse_output=False)\n",
        "y_encoded = encoder.fit_transform(y.values.reshape(-1, 1))\n",
        "y_encoded = pd.DataFrame(y_encoded)\n",
        "y_encoded"
      ]
    },
    {
      "cell_type": "code",
      "execution_count": 12,
      "id": "f8352442",
      "metadata": {
        "id": "f8352442"
      },
      "outputs": [],
      "source": [
        "df = pd.concat([X, y_encoded], axis=1)"
      ]
    },
    {
      "cell_type": "code",
      "execution_count": 13,
      "id": "515b9a2d",
      "metadata": {
        "id": "515b9a2d"
      },
      "outputs": [
        {
          "name": "stdout",
          "output_type": "stream",
          "text": [
            "(9140478, 83)   (2285120, 83)\n",
            "(9140478, 10)   (2285120, 10)\n"
          ]
        }
      ],
      "source": [
        "X_train,X_test,y_train,y_test=train_test_split(X,y_encoded,test_size=0.2)\n",
        "print(X_train.shape,\" \",X_test.shape)\n",
        "print(y_train.shape,\" \",y_test.shape)"
      ]
    },
    {
      "cell_type": "code",
      "execution_count": 14,
      "id": "09af0e6a",
      "metadata": {
        "id": "09af0e6a"
      },
      "outputs": [
        {
          "name": "stdout",
          "output_type": "stream",
          "text": [
            "(914048, 83) (914048, 10)\n",
            "(228512, 83) (228512, 10)\n"
          ]
        }
      ],
      "source": [
        "#selecting 1% of random rows for better running time\n",
        "\n",
        "X_train = X_train.sample(frac=0.1, replace=True, random_state=1)\n",
        "y_train = y_train.sample(frac=0.1, replace=True, random_state=1)\n",
        "X_test = X_test.sample(frac=0.1, replace=True, random_state=1)\n",
        "y_test = y_test.sample(frac=0.1, replace=True, random_state=1)\n",
        "print (X_train.shape, y_train.shape)\n",
        "print( X_test.shape, y_test.shape)"
      ]
    },
    {
      "cell_type": "code",
      "execution_count": null,
      "id": "84a4dd05",
      "metadata": {
        "id": "84a4dd05"
      },
      "outputs": [],
      "source": [
        "from sklearn.feature_selection import SelectFromModel\n",
        "from sklearn.ensemble import RandomForestClassifier\n",
        "from sklearn.feature_selection import SelectFromModel\n",
        "\n",
        "sel = SelectFromModel(RandomForestClassifier(n_estimators=100, random_state=0, n_jobs=-1))\n",
        "sel.fit(X_train, y_train)\n",
        "sel.get_support()\n",
        "\n",
        "X_train.columns\n",
        "\n",
        "features = X_train.columns[sel.get_support()]\n",
        "print(features)\n",
        "\n",
        "print(len(features))\n",
        "\n",
        "np.mean(sel.estimator_.feature_importances_)\n",
        "print(sel.estimator_.feature_importances_)\n",
        "\n",
        "X_train_rfe = sel.transform(X_train)\n",
        "X_test_rfe = sel.transform(X_test)"
      ]
    },
    {
      "cell_type": "code",
      "execution_count": null,
      "id": "c99af5af",
      "metadata": {
        "id": "c99af5af"
      },
      "outputs": [],
      "source": [
        "X_train_rfe=np.array(X_train_rfe)\n",
        "X_test_rfe=np.array(X_test_rfe)\n",
        "y=np.array(y)"
      ]
    },
    {
      "cell_type": "code",
      "execution_count": null,
      "id": "55f98fe5",
      "metadata": {
        "id": "55f98fe5"
      },
      "outputs": [],
      "source": [
        "X_train = np.reshape(X_train_rfe, ( X_train_rfe.shape[0], 1 , X_train_rfe.shape[1] ))\n",
        "X_test = np.reshape(X_test_rfe, ( X_test_rfe.shape[0], 1,  X_test_rfe.shape[1] ))"
      ]
    },
    {
      "cell_type": "code",
      "execution_count": null,
      "id": "b8198776",
      "metadata": {
        "id": "b8198776"
      },
      "outputs": [],
      "source": [
        "from keras.layers import Dense, LSTM, MaxPool1D, Flatten, Dropout # importing dense layer\n",
        "from keras.models import Sequential #importing Sequential layer\n",
        "from keras.layers import Input\n",
        "from keras.models import Model\n",
        "\n",
        "model = Sequential() # initializing model\n",
        "model.add(LSTM(64,return_sequences=True,input_shape = (1, X_train_rfe.shape[1])))\n",
        "model.add(Dropout(0.2))\n",
        "model.add(LSTM(64,return_sequences=True))\n",
        "model.add(Dropout(0.2))\n",
        "model.add(LSTM(64,return_sequences=True))\n",
        "model.add(Flatten())\n",
        "model.add(Dense(units=50))\n",
        "# output layer with softmax activation\n",
        "model.add(Dense(units=7,activation='softmax'))"
      ]
    },
    {
      "cell_type": "code",
      "execution_count": null,
      "id": "da2eb937",
      "metadata": {
        "id": "da2eb937"
      },
      "outputs": [],
      "source": [
        "# defining loss function, optimizer, metrics and then compiling model\n",
        "model.compile(loss='categorical_crossentropy', optimizer='adam', metrics=['accuracy'])"
      ]
    },
    {
      "cell_type": "code",
      "execution_count": null,
      "id": "9ffbf829",
      "metadata": {
        "id": "9ffbf829"
      },
      "outputs": [],
      "source": [
        "# summary of model layers\n",
        "model.summary()"
      ]
    },
    {
      "cell_type": "code",
      "execution_count": null,
      "id": "7a128765",
      "metadata": {},
      "outputs": [],
      "source": [
        "!nvidia-smi # ONLY IN COLAB, if you are using Macbook, you need to change it according to your run time"
      ]
    },
    {
      "cell_type": "code",
      "execution_count": null,
      "id": "cef31ac6",
      "metadata": {},
      "outputs": [],
      "source": [
        "import tensorflow as tf\n",
        "print(\"Num GPUs Available:\", len(tf.config.list_physical_devices('GPU')))\n",
        "tf.config.list_physical_devices('GPU')"
      ]
    },
    {
      "cell_type": "code",
      "execution_count": null,
      "id": "a70d5a57",
      "metadata": {},
      "outputs": [],
      "source": [
        "import tensorflow as tf\n",
        "import subprocess\n",
        "\n",
        "class GpuUsageLogger(tf.keras.callbacks.Callback):\n",
        "    def on_epoch_end(self, epoch, logs=None):\n",
        "        print(f\"\\n--- Epoch {epoch+1} GPU Usage ---\")\n",
        "        print(subprocess.getoutput(\"nvidia-smi --query-gpu=memory.used,memory.total,utilization.gpu --format=csv\"))\n",
        "\n",
        "with tf.device('/GPU:0'):\n",
        "    history = model.fit(\n",
        "        X_train, y_train,\n",
        "        epochs=100,  # use small number for test\n",
        "        batch_size=5000,\n",
        "        validation_split=0.2,\n",
        "        callbacks=[GpuUsageLogger()]\n",
        "    )\n"
      ]
    },
    {
      "cell_type": "code",
      "execution_count": null,
      "id": "03e2b229",
      "metadata": {
        "id": "03e2b229"
      },
      "outputs": [],
      "source": [
        "# predicting target attribute on testing dataset\n",
        "test_results = model.evaluate(X_test, y_test, verbose=1)\n",
        "print(f'Test results - Loss: {test_results[0]} - Accuracy: {test_results[1]*100}%')"
      ]
    },
    {
      "cell_type": "code",
      "execution_count": null,
      "id": "014cc31a",
      "metadata": {
        "id": "014cc31a"
      },
      "outputs": [],
      "source": [
        "model.save('2018_LSTM_feature_extraction.keras')"
      ]
    }
  ],
  "metadata": {
    "colab": {
      "provenance": []
    },
    "kernelspec": {
      "display_name": ".venv",
      "language": "python",
      "name": "python3"
    },
    "language_info": {
      "codemirror_mode": {
        "name": "ipython",
        "version": 3
      },
      "file_extension": ".py",
      "mimetype": "text/x-python",
      "name": "python",
      "nbconvert_exporter": "python",
      "pygments_lexer": "ipython3",
      "version": "3.10.17"
    }
  },
  "nbformat": 4,
  "nbformat_minor": 5
}
